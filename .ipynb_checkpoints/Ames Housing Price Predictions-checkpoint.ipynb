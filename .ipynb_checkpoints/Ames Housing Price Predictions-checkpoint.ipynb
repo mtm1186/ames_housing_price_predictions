{
 "cells": [
  {
   "cell_type": "markdown",
   "metadata": {},
   "source": [
    "# Predicting Sale Prices for Aimes Iowa Housing Dataset\n",
    "\n",
    "#### By: Matthew Malone: https://git.generalassemb.ly/mtm1186"
   ]
  },
  {
   "cell_type": "markdown",
   "metadata": {},
   "source": [
    "## Problem Statement\n"
   ]
  },
  {
   "cell_type": "markdown",
   "metadata": {},
   "source": [
    "The tech start up Willow Real Estate which is a online Real Estate Database company has been tasked by it's Investment Committee to provide a model that will be competetive with Zillow's Zestimate. Zillow's Zestimate is an automated valuation model that takes into account various home and neighborhood features that estimates home sales prices. The typical Zestimate error is $14, 000 (RMSE) according to online data. However, Zillow is an extremely large publically traded company and the investment committee has set a reasonable goal of a $25,000 error based off of Root Mean Squared Error (RMSE). Meeting this goal will be the first step before the Investment Committee provides more money to expand to new markets. "
   ]
  },
  {
   "cell_type": "markdown",
   "metadata": {},
   "source": [
    "## Executive Summary"
   ]
  },
  {
   "cell_type": "markdown",
   "metadata": {},
   "source": [
    "The Investment Committee has viewed the midwest as an untapped market for Willow and has decided your first model should be built using housing data provided by the City of Ames, IA assessors office. This data is from 2006-2010 and has been used in computing assessed values for individual residenal properties sold in Ames. The data set is robust and is a comprehensive overview of a homes land and builidng features. It includes everything an appraiser would use when appraising the fair market value of a home. The data set will be sufficient in building a competetive model to rival Zillow's. Create a baseline model in additon to three other models (Linear Regression, Ridge, Lasso). Your goal is to achieve a RMSE score of $25,000 in predicted sales prices. Please keep in mind our goal is in prediction. "
   ]
  },
  {
   "cell_type": "markdown",
   "metadata": {},
   "source": [
    "## Table of Contents\n",
    "\n",
    "#### Loading Data\n",
    "#### EDA\n",
    "#### Modeling\n",
    "#### Baseline Model\n",
    "#### Linear Regression\n",
    "#### Ridge\n",
    "#### Lasso\n",
    "#### Model Selection\n",
    "#### Model Evaluation\n",
    "#### Conclusion\n",
    "#### Recommendations\n"
   ]
  },
  {
   "cell_type": "markdown",
   "metadata": {},
   "source": [
    "## Loading Data"
   ]
  },
  {
   "cell_type": "code",
   "execution_count": 1390,
   "metadata": {},
   "outputs": [],
   "source": [
    "import warnings\n",
    "warnings.filterwarnings(\"ignore\") # Shhhh\n",
    "import numpy as np\n",
    "import pandas as pd\n",
    "from sklearn.linear_model import LinearRegression, Ridge, Lasso, RidgeCV, LassoCV\n",
    "from sklearn.preprocessing import StandardScaler\n",
    "from sklearn.model_selection import train_test_split, cross_val_score, cross_val_predict\n",
    "from sklearn.metrics import mean_squared_error\n",
    "import matplotlib.pyplot as plt\n",
    "import seaborn as sns\n",
    "\n",
    "RANDOM_STATE = 90210"
   ]
  },
  {
   "cell_type": "code",
   "execution_count": 1273,
   "metadata": {},
   "outputs": [],
   "source": [
    "df_train = pd.read_csv('./datasets/train.csv') #called train.csv, but this IS our dataset "
   ]
  },
  {
   "cell_type": "code",
   "execution_count": 1274,
   "metadata": {},
   "outputs": [],
   "source": [
    "df_test = pd.read_csv('./datasets/test.csv')"
   ]
  },
  {
   "cell_type": "code",
   "execution_count": 1275,
   "metadata": {},
   "outputs": [],
   "source": [
    "df_train.set_index('Id', inplace=True)\n",
    "df_test.set_index('Id', inplace=True)"
   ]
  },
  {
   "cell_type": "markdown",
   "metadata": {},
   "source": [
    "## EDA"
   ]
  },
  {
   "cell_type": "code",
   "execution_count": 1276,
   "metadata": {},
   "outputs": [
    {
     "data": {
      "text/html": [
       "<div>\n",
       "<style scoped>\n",
       "    .dataframe tbody tr th:only-of-type {\n",
       "        vertical-align: middle;\n",
       "    }\n",
       "\n",
       "    .dataframe tbody tr th {\n",
       "        vertical-align: top;\n",
       "    }\n",
       "\n",
       "    .dataframe thead th {\n",
       "        text-align: right;\n",
       "    }\n",
       "</style>\n",
       "<table border=\"1\" class=\"dataframe\">\n",
       "  <thead>\n",
       "    <tr style=\"text-align: right;\">\n",
       "      <th></th>\n",
       "      <th>PID</th>\n",
       "      <th>MS SubClass</th>\n",
       "      <th>MS Zoning</th>\n",
       "      <th>Lot Frontage</th>\n",
       "      <th>Lot Area</th>\n",
       "      <th>Street</th>\n",
       "      <th>Alley</th>\n",
       "      <th>Lot Shape</th>\n",
       "      <th>Land Contour</th>\n",
       "      <th>Utilities</th>\n",
       "      <th>...</th>\n",
       "      <th>Screen Porch</th>\n",
       "      <th>Pool Area</th>\n",
       "      <th>Pool QC</th>\n",
       "      <th>Fence</th>\n",
       "      <th>Misc Feature</th>\n",
       "      <th>Misc Val</th>\n",
       "      <th>Mo Sold</th>\n",
       "      <th>Yr Sold</th>\n",
       "      <th>Sale Type</th>\n",
       "      <th>SalePrice</th>\n",
       "    </tr>\n",
       "    <tr>\n",
       "      <th>Id</th>\n",
       "      <th></th>\n",
       "      <th></th>\n",
       "      <th></th>\n",
       "      <th></th>\n",
       "      <th></th>\n",
       "      <th></th>\n",
       "      <th></th>\n",
       "      <th></th>\n",
       "      <th></th>\n",
       "      <th></th>\n",
       "      <th></th>\n",
       "      <th></th>\n",
       "      <th></th>\n",
       "      <th></th>\n",
       "      <th></th>\n",
       "      <th></th>\n",
       "      <th></th>\n",
       "      <th></th>\n",
       "      <th></th>\n",
       "      <th></th>\n",
       "      <th></th>\n",
       "    </tr>\n",
       "  </thead>\n",
       "  <tbody>\n",
       "    <tr>\n",
       "      <th>109</th>\n",
       "      <td>533352170</td>\n",
       "      <td>60</td>\n",
       "      <td>RL</td>\n",
       "      <td>NaN</td>\n",
       "      <td>13517</td>\n",
       "      <td>Pave</td>\n",
       "      <td>NaN</td>\n",
       "      <td>IR1</td>\n",
       "      <td>Lvl</td>\n",
       "      <td>AllPub</td>\n",
       "      <td>...</td>\n",
       "      <td>0</td>\n",
       "      <td>0</td>\n",
       "      <td>NaN</td>\n",
       "      <td>NaN</td>\n",
       "      <td>NaN</td>\n",
       "      <td>0</td>\n",
       "      <td>3</td>\n",
       "      <td>2010</td>\n",
       "      <td>WD</td>\n",
       "      <td>130500</td>\n",
       "    </tr>\n",
       "    <tr>\n",
       "      <th>544</th>\n",
       "      <td>531379050</td>\n",
       "      <td>60</td>\n",
       "      <td>RL</td>\n",
       "      <td>43.0</td>\n",
       "      <td>11492</td>\n",
       "      <td>Pave</td>\n",
       "      <td>NaN</td>\n",
       "      <td>IR1</td>\n",
       "      <td>Lvl</td>\n",
       "      <td>AllPub</td>\n",
       "      <td>...</td>\n",
       "      <td>0</td>\n",
       "      <td>0</td>\n",
       "      <td>NaN</td>\n",
       "      <td>NaN</td>\n",
       "      <td>NaN</td>\n",
       "      <td>0</td>\n",
       "      <td>4</td>\n",
       "      <td>2009</td>\n",
       "      <td>WD</td>\n",
       "      <td>220000</td>\n",
       "    </tr>\n",
       "    <tr>\n",
       "      <th>153</th>\n",
       "      <td>535304180</td>\n",
       "      <td>20</td>\n",
       "      <td>RL</td>\n",
       "      <td>68.0</td>\n",
       "      <td>7922</td>\n",
       "      <td>Pave</td>\n",
       "      <td>NaN</td>\n",
       "      <td>Reg</td>\n",
       "      <td>Lvl</td>\n",
       "      <td>AllPub</td>\n",
       "      <td>...</td>\n",
       "      <td>0</td>\n",
       "      <td>0</td>\n",
       "      <td>NaN</td>\n",
       "      <td>NaN</td>\n",
       "      <td>NaN</td>\n",
       "      <td>0</td>\n",
       "      <td>1</td>\n",
       "      <td>2010</td>\n",
       "      <td>WD</td>\n",
       "      <td>109000</td>\n",
       "    </tr>\n",
       "    <tr>\n",
       "      <th>318</th>\n",
       "      <td>916386060</td>\n",
       "      <td>60</td>\n",
       "      <td>RL</td>\n",
       "      <td>73.0</td>\n",
       "      <td>9802</td>\n",
       "      <td>Pave</td>\n",
       "      <td>NaN</td>\n",
       "      <td>Reg</td>\n",
       "      <td>Lvl</td>\n",
       "      <td>AllPub</td>\n",
       "      <td>...</td>\n",
       "      <td>0</td>\n",
       "      <td>0</td>\n",
       "      <td>NaN</td>\n",
       "      <td>NaN</td>\n",
       "      <td>NaN</td>\n",
       "      <td>0</td>\n",
       "      <td>4</td>\n",
       "      <td>2010</td>\n",
       "      <td>WD</td>\n",
       "      <td>174000</td>\n",
       "    </tr>\n",
       "    <tr>\n",
       "      <th>255</th>\n",
       "      <td>906425045</td>\n",
       "      <td>50</td>\n",
       "      <td>RL</td>\n",
       "      <td>82.0</td>\n",
       "      <td>14235</td>\n",
       "      <td>Pave</td>\n",
       "      <td>NaN</td>\n",
       "      <td>IR1</td>\n",
       "      <td>Lvl</td>\n",
       "      <td>AllPub</td>\n",
       "      <td>...</td>\n",
       "      <td>0</td>\n",
       "      <td>0</td>\n",
       "      <td>NaN</td>\n",
       "      <td>NaN</td>\n",
       "      <td>NaN</td>\n",
       "      <td>0</td>\n",
       "      <td>3</td>\n",
       "      <td>2010</td>\n",
       "      <td>WD</td>\n",
       "      <td>138500</td>\n",
       "    </tr>\n",
       "  </tbody>\n",
       "</table>\n",
       "<p>5 rows × 80 columns</p>\n",
       "</div>"
      ],
      "text/plain": [
       "           PID  MS SubClass MS Zoning  Lot Frontage  Lot Area Street Alley  \\\n",
       "Id                                                                           \n",
       "109  533352170           60        RL           NaN     13517   Pave   NaN   \n",
       "544  531379050           60        RL          43.0     11492   Pave   NaN   \n",
       "153  535304180           20        RL          68.0      7922   Pave   NaN   \n",
       "318  916386060           60        RL          73.0      9802   Pave   NaN   \n",
       "255  906425045           50        RL          82.0     14235   Pave   NaN   \n",
       "\n",
       "    Lot Shape Land Contour Utilities  ... Screen Porch Pool Area Pool QC  \\\n",
       "Id                                    ...                                  \n",
       "109       IR1          Lvl    AllPub  ...            0         0     NaN   \n",
       "544       IR1          Lvl    AllPub  ...            0         0     NaN   \n",
       "153       Reg          Lvl    AllPub  ...            0         0     NaN   \n",
       "318       Reg          Lvl    AllPub  ...            0         0     NaN   \n",
       "255       IR1          Lvl    AllPub  ...            0         0     NaN   \n",
       "\n",
       "    Fence Misc Feature Misc Val Mo Sold  Yr Sold  Sale Type  SalePrice  \n",
       "Id                                                                      \n",
       "109   NaN          NaN        0       3     2010        WD      130500  \n",
       "544   NaN          NaN        0       4     2009        WD      220000  \n",
       "153   NaN          NaN        0       1     2010        WD      109000  \n",
       "318   NaN          NaN        0       4     2010        WD      174000  \n",
       "255   NaN          NaN        0       3     2010        WD      138500  \n",
       "\n",
       "[5 rows x 80 columns]"
      ]
     },
     "execution_count": 1276,
     "metadata": {},
     "output_type": "execute_result"
    }
   ],
   "source": [
    "df_train.head()"
   ]
  },
  {
   "cell_type": "code",
   "execution_count": 1277,
   "metadata": {},
   "outputs": [
    {
     "data": {
      "text/html": [
       "<div>\n",
       "<style scoped>\n",
       "    .dataframe tbody tr th:only-of-type {\n",
       "        vertical-align: middle;\n",
       "    }\n",
       "\n",
       "    .dataframe tbody tr th {\n",
       "        vertical-align: top;\n",
       "    }\n",
       "\n",
       "    .dataframe thead th {\n",
       "        text-align: right;\n",
       "    }\n",
       "</style>\n",
       "<table border=\"1\" class=\"dataframe\">\n",
       "  <thead>\n",
       "    <tr style=\"text-align: right;\">\n",
       "      <th></th>\n",
       "      <th>PID</th>\n",
       "      <th>MS SubClass</th>\n",
       "      <th>MS Zoning</th>\n",
       "      <th>Lot Frontage</th>\n",
       "      <th>Lot Area</th>\n",
       "      <th>Street</th>\n",
       "      <th>Alley</th>\n",
       "      <th>Lot Shape</th>\n",
       "      <th>Land Contour</th>\n",
       "      <th>Utilities</th>\n",
       "      <th>...</th>\n",
       "      <th>3Ssn Porch</th>\n",
       "      <th>Screen Porch</th>\n",
       "      <th>Pool Area</th>\n",
       "      <th>Pool QC</th>\n",
       "      <th>Fence</th>\n",
       "      <th>Misc Feature</th>\n",
       "      <th>Misc Val</th>\n",
       "      <th>Mo Sold</th>\n",
       "      <th>Yr Sold</th>\n",
       "      <th>Sale Type</th>\n",
       "    </tr>\n",
       "    <tr>\n",
       "      <th>Id</th>\n",
       "      <th></th>\n",
       "      <th></th>\n",
       "      <th></th>\n",
       "      <th></th>\n",
       "      <th></th>\n",
       "      <th></th>\n",
       "      <th></th>\n",
       "      <th></th>\n",
       "      <th></th>\n",
       "      <th></th>\n",
       "      <th></th>\n",
       "      <th></th>\n",
       "      <th></th>\n",
       "      <th></th>\n",
       "      <th></th>\n",
       "      <th></th>\n",
       "      <th></th>\n",
       "      <th></th>\n",
       "      <th></th>\n",
       "      <th></th>\n",
       "      <th></th>\n",
       "    </tr>\n",
       "  </thead>\n",
       "  <tbody>\n",
       "    <tr>\n",
       "      <th>2658</th>\n",
       "      <td>902301120</td>\n",
       "      <td>190</td>\n",
       "      <td>RM</td>\n",
       "      <td>69.0</td>\n",
       "      <td>9142</td>\n",
       "      <td>Pave</td>\n",
       "      <td>Grvl</td>\n",
       "      <td>Reg</td>\n",
       "      <td>Lvl</td>\n",
       "      <td>AllPub</td>\n",
       "      <td>...</td>\n",
       "      <td>0</td>\n",
       "      <td>0</td>\n",
       "      <td>0</td>\n",
       "      <td>NaN</td>\n",
       "      <td>NaN</td>\n",
       "      <td>NaN</td>\n",
       "      <td>0</td>\n",
       "      <td>4</td>\n",
       "      <td>2006</td>\n",
       "      <td>WD</td>\n",
       "    </tr>\n",
       "    <tr>\n",
       "      <th>2718</th>\n",
       "      <td>905108090</td>\n",
       "      <td>90</td>\n",
       "      <td>RL</td>\n",
       "      <td>NaN</td>\n",
       "      <td>9662</td>\n",
       "      <td>Pave</td>\n",
       "      <td>NaN</td>\n",
       "      <td>IR1</td>\n",
       "      <td>Lvl</td>\n",
       "      <td>AllPub</td>\n",
       "      <td>...</td>\n",
       "      <td>0</td>\n",
       "      <td>0</td>\n",
       "      <td>0</td>\n",
       "      <td>NaN</td>\n",
       "      <td>NaN</td>\n",
       "      <td>NaN</td>\n",
       "      <td>0</td>\n",
       "      <td>8</td>\n",
       "      <td>2006</td>\n",
       "      <td>WD</td>\n",
       "    </tr>\n",
       "    <tr>\n",
       "      <th>2414</th>\n",
       "      <td>528218130</td>\n",
       "      <td>60</td>\n",
       "      <td>RL</td>\n",
       "      <td>58.0</td>\n",
       "      <td>17104</td>\n",
       "      <td>Pave</td>\n",
       "      <td>NaN</td>\n",
       "      <td>IR1</td>\n",
       "      <td>Lvl</td>\n",
       "      <td>AllPub</td>\n",
       "      <td>...</td>\n",
       "      <td>0</td>\n",
       "      <td>0</td>\n",
       "      <td>0</td>\n",
       "      <td>NaN</td>\n",
       "      <td>NaN</td>\n",
       "      <td>NaN</td>\n",
       "      <td>0</td>\n",
       "      <td>9</td>\n",
       "      <td>2006</td>\n",
       "      <td>New</td>\n",
       "    </tr>\n",
       "    <tr>\n",
       "      <th>1989</th>\n",
       "      <td>902207150</td>\n",
       "      <td>30</td>\n",
       "      <td>RM</td>\n",
       "      <td>60.0</td>\n",
       "      <td>8520</td>\n",
       "      <td>Pave</td>\n",
       "      <td>NaN</td>\n",
       "      <td>Reg</td>\n",
       "      <td>Lvl</td>\n",
       "      <td>AllPub</td>\n",
       "      <td>...</td>\n",
       "      <td>0</td>\n",
       "      <td>0</td>\n",
       "      <td>0</td>\n",
       "      <td>NaN</td>\n",
       "      <td>NaN</td>\n",
       "      <td>NaN</td>\n",
       "      <td>0</td>\n",
       "      <td>7</td>\n",
       "      <td>2007</td>\n",
       "      <td>WD</td>\n",
       "    </tr>\n",
       "    <tr>\n",
       "      <th>625</th>\n",
       "      <td>535105100</td>\n",
       "      <td>20</td>\n",
       "      <td>RL</td>\n",
       "      <td>NaN</td>\n",
       "      <td>9500</td>\n",
       "      <td>Pave</td>\n",
       "      <td>NaN</td>\n",
       "      <td>IR1</td>\n",
       "      <td>Lvl</td>\n",
       "      <td>AllPub</td>\n",
       "      <td>...</td>\n",
       "      <td>0</td>\n",
       "      <td>185</td>\n",
       "      <td>0</td>\n",
       "      <td>NaN</td>\n",
       "      <td>NaN</td>\n",
       "      <td>NaN</td>\n",
       "      <td>0</td>\n",
       "      <td>7</td>\n",
       "      <td>2009</td>\n",
       "      <td>WD</td>\n",
       "    </tr>\n",
       "  </tbody>\n",
       "</table>\n",
       "<p>5 rows × 79 columns</p>\n",
       "</div>"
      ],
      "text/plain": [
       "            PID  MS SubClass MS Zoning  Lot Frontage  Lot Area Street Alley  \\\n",
       "Id                                                                            \n",
       "2658  902301120          190        RM          69.0      9142   Pave  Grvl   \n",
       "2718  905108090           90        RL           NaN      9662   Pave   NaN   \n",
       "2414  528218130           60        RL          58.0     17104   Pave   NaN   \n",
       "1989  902207150           30        RM          60.0      8520   Pave   NaN   \n",
       "625   535105100           20        RL           NaN      9500   Pave   NaN   \n",
       "\n",
       "     Lot Shape Land Contour Utilities  ... 3Ssn Porch Screen Porch Pool Area  \\\n",
       "Id                                     ...                                     \n",
       "2658       Reg          Lvl    AllPub  ...          0            0         0   \n",
       "2718       IR1          Lvl    AllPub  ...          0            0         0   \n",
       "2414       IR1          Lvl    AllPub  ...          0            0         0   \n",
       "1989       Reg          Lvl    AllPub  ...          0            0         0   \n",
       "625        IR1          Lvl    AllPub  ...          0          185         0   \n",
       "\n",
       "     Pool QC Fence Misc Feature Misc Val  Mo Sold  Yr Sold  Sale Type  \n",
       "Id                                                                     \n",
       "2658     NaN   NaN          NaN        0        4     2006        WD   \n",
       "2718     NaN   NaN          NaN        0        8     2006        WD   \n",
       "2414     NaN   NaN          NaN        0        9     2006        New  \n",
       "1989     NaN   NaN          NaN        0        7     2007        WD   \n",
       "625      NaN   NaN          NaN        0        7     2009        WD   \n",
       "\n",
       "[5 rows x 79 columns]"
      ]
     },
     "execution_count": 1277,
     "metadata": {},
     "output_type": "execute_result"
    }
   ],
   "source": [
    "df_test.head()\n"
   ]
  },
  {
   "cell_type": "code",
   "execution_count": 1278,
   "metadata": {},
   "outputs": [
    {
     "data": {
      "text/plain": [
       "(2051, 80)"
      ]
     },
     "execution_count": 1278,
     "metadata": {},
     "output_type": "execute_result"
    }
   ],
   "source": [
    "# Look at the shape of our training data set\n",
    "df_train.shape"
   ]
  },
  {
   "cell_type": "code",
   "execution_count": 1279,
   "metadata": {},
   "outputs": [
    {
     "data": {
      "text/plain": [
       "(878, 79)"
      ]
     },
     "execution_count": 1279,
     "metadata": {},
     "output_type": "execute_result"
    }
   ],
   "source": [
    "# validation data has one less column which is our target variable SalePrice. \n",
    "df_test.shape"
   ]
  },
  {
   "cell_type": "code",
   "execution_count": 1280,
   "metadata": {},
   "outputs": [
    {
     "data": {
      "text/html": [
       "<div>\n",
       "<style scoped>\n",
       "    .dataframe tbody tr th:only-of-type {\n",
       "        vertical-align: middle;\n",
       "    }\n",
       "\n",
       "    .dataframe tbody tr th {\n",
       "        vertical-align: top;\n",
       "    }\n",
       "\n",
       "    .dataframe thead th {\n",
       "        text-align: right;\n",
       "    }\n",
       "</style>\n",
       "<table border=\"1\" class=\"dataframe\">\n",
       "  <thead>\n",
       "    <tr style=\"text-align: right;\">\n",
       "      <th></th>\n",
       "      <th>count</th>\n",
       "      <th>mean</th>\n",
       "      <th>std</th>\n",
       "      <th>min</th>\n",
       "      <th>25%</th>\n",
       "      <th>50%</th>\n",
       "      <th>75%</th>\n",
       "      <th>max</th>\n",
       "    </tr>\n",
       "  </thead>\n",
       "  <tbody>\n",
       "    <tr>\n",
       "      <th>PID</th>\n",
       "      <td>878.0</td>\n",
       "      <td>7.162867e+08</td>\n",
       "      <td>1.889103e+08</td>\n",
       "      <td>526302110.0</td>\n",
       "      <td>5.284841e+08</td>\n",
       "      <td>535454155.0</td>\n",
       "      <td>9.071904e+08</td>\n",
       "      <td>1.007100e+09</td>\n",
       "    </tr>\n",
       "    <tr>\n",
       "      <th>MS SubClass</th>\n",
       "      <td>878.0</td>\n",
       "      <td>5.826879e+01</td>\n",
       "      <td>4.223541e+01</td>\n",
       "      <td>20.0</td>\n",
       "      <td>2.000000e+01</td>\n",
       "      <td>50.0</td>\n",
       "      <td>7.000000e+01</td>\n",
       "      <td>1.900000e+02</td>\n",
       "    </tr>\n",
       "    <tr>\n",
       "      <th>Lot Frontage</th>\n",
       "      <td>718.0</td>\n",
       "      <td>6.954596e+01</td>\n",
       "      <td>2.353394e+01</td>\n",
       "      <td>21.0</td>\n",
       "      <td>5.900000e+01</td>\n",
       "      <td>68.0</td>\n",
       "      <td>8.000000e+01</td>\n",
       "      <td>1.820000e+02</td>\n",
       "    </tr>\n",
       "    <tr>\n",
       "      <th>Lot Area</th>\n",
       "      <td>878.0</td>\n",
       "      <td>1.030703e+04</td>\n",
       "      <td>1.000267e+04</td>\n",
       "      <td>1477.0</td>\n",
       "      <td>7.297250e+03</td>\n",
       "      <td>9446.0</td>\n",
       "      <td>1.158900e+04</td>\n",
       "      <td>2.152450e+05</td>\n",
       "    </tr>\n",
       "    <tr>\n",
       "      <th>Overall Qual</th>\n",
       "      <td>878.0</td>\n",
       "      <td>6.050114e+00</td>\n",
       "      <td>1.369065e+00</td>\n",
       "      <td>2.0</td>\n",
       "      <td>5.000000e+00</td>\n",
       "      <td>6.0</td>\n",
       "      <td>7.000000e+00</td>\n",
       "      <td>1.000000e+01</td>\n",
       "    </tr>\n",
       "    <tr>\n",
       "      <th>Overall Cond</th>\n",
       "      <td>878.0</td>\n",
       "      <td>5.566059e+00</td>\n",
       "      <td>1.128903e+00</td>\n",
       "      <td>1.0</td>\n",
       "      <td>5.000000e+00</td>\n",
       "      <td>5.0</td>\n",
       "      <td>6.000000e+00</td>\n",
       "      <td>9.000000e+00</td>\n",
       "    </tr>\n",
       "    <tr>\n",
       "      <th>Year Built</th>\n",
       "      <td>878.0</td>\n",
       "      <td>1.970492e+03</td>\n",
       "      <td>3.039589e+01</td>\n",
       "      <td>1880.0</td>\n",
       "      <td>1.954000e+03</td>\n",
       "      <td>1972.0</td>\n",
       "      <td>1.999750e+03</td>\n",
       "      <td>2.010000e+03</td>\n",
       "    </tr>\n",
       "    <tr>\n",
       "      <th>Year Remod/Add</th>\n",
       "      <td>878.0</td>\n",
       "      <td>1.984418e+03</td>\n",
       "      <td>2.045072e+01</td>\n",
       "      <td>1950.0</td>\n",
       "      <td>1.967000e+03</td>\n",
       "      <td>1992.0</td>\n",
       "      <td>2.003000e+03</td>\n",
       "      <td>2.010000e+03</td>\n",
       "    </tr>\n",
       "    <tr>\n",
       "      <th>Mas Vnr Area</th>\n",
       "      <td>877.0</td>\n",
       "      <td>1.062360e+02</td>\n",
       "      <td>1.871589e+02</td>\n",
       "      <td>0.0</td>\n",
       "      <td>0.000000e+00</td>\n",
       "      <td>0.0</td>\n",
       "      <td>1.720000e+02</td>\n",
       "      <td>1.378000e+03</td>\n",
       "    </tr>\n",
       "    <tr>\n",
       "      <th>BsmtFin SF 1</th>\n",
       "      <td>878.0</td>\n",
       "      <td>4.413280e+02</td>\n",
       "      <td>4.384573e+02</td>\n",
       "      <td>0.0</td>\n",
       "      <td>0.000000e+00</td>\n",
       "      <td>373.0</td>\n",
       "      <td>7.347500e+02</td>\n",
       "      <td>2.288000e+03</td>\n",
       "    </tr>\n",
       "    <tr>\n",
       "      <th>BsmtFin SF 2</th>\n",
       "      <td>878.0</td>\n",
       "      <td>5.389636e+01</td>\n",
       "      <td>1.786324e+02</td>\n",
       "      <td>0.0</td>\n",
       "      <td>0.000000e+00</td>\n",
       "      <td>0.0</td>\n",
       "      <td>0.000000e+00</td>\n",
       "      <td>1.526000e+03</td>\n",
       "    </tr>\n",
       "    <tr>\n",
       "      <th>Bsmt Unf SF</th>\n",
       "      <td>878.0</td>\n",
       "      <td>5.391333e+02</td>\n",
       "      <td>4.261722e+02</td>\n",
       "      <td>0.0</td>\n",
       "      <td>2.160000e+02</td>\n",
       "      <td>452.0</td>\n",
       "      <td>7.800000e+02</td>\n",
       "      <td>2.046000e+03</td>\n",
       "    </tr>\n",
       "    <tr>\n",
       "      <th>Total Bsmt SF</th>\n",
       "      <td>878.0</td>\n",
       "      <td>1.034358e+03</td>\n",
       "      <td>4.134463e+02</td>\n",
       "      <td>0.0</td>\n",
       "      <td>7.890000e+02</td>\n",
       "      <td>975.0</td>\n",
       "      <td>1.247000e+03</td>\n",
       "      <td>2.630000e+03</td>\n",
       "    </tr>\n",
       "    <tr>\n",
       "      <th>1st Flr SF</th>\n",
       "      <td>878.0</td>\n",
       "      <td>1.145787e+03</td>\n",
       "      <td>3.752641e+02</td>\n",
       "      <td>407.0</td>\n",
       "      <td>8.640000e+02</td>\n",
       "      <td>1063.0</td>\n",
       "      <td>1.358000e+03</td>\n",
       "      <td>2.674000e+03</td>\n",
       "    </tr>\n",
       "    <tr>\n",
       "      <th>2nd Flr SF</th>\n",
       "      <td>878.0</td>\n",
       "      <td>3.483986e+02</td>\n",
       "      <td>4.329856e+02</td>\n",
       "      <td>0.0</td>\n",
       "      <td>0.000000e+00</td>\n",
       "      <td>0.0</td>\n",
       "      <td>7.200000e+02</td>\n",
       "      <td>2.065000e+03</td>\n",
       "    </tr>\n",
       "    <tr>\n",
       "      <th>Low Qual Fin SF</th>\n",
       "      <td>878.0</td>\n",
       "      <td>2.728929e+00</td>\n",
       "      <td>3.257255e+01</td>\n",
       "      <td>0.0</td>\n",
       "      <td>0.000000e+00</td>\n",
       "      <td>0.0</td>\n",
       "      <td>0.000000e+00</td>\n",
       "      <td>4.810000e+02</td>\n",
       "    </tr>\n",
       "    <tr>\n",
       "      <th>Gr Liv Area</th>\n",
       "      <td>878.0</td>\n",
       "      <td>1.496915e+03</td>\n",
       "      <td>5.064690e+02</td>\n",
       "      <td>407.0</td>\n",
       "      <td>1.114000e+03</td>\n",
       "      <td>1436.0</td>\n",
       "      <td>1.779000e+03</td>\n",
       "      <td>4.476000e+03</td>\n",
       "    </tr>\n",
       "    <tr>\n",
       "      <th>Bsmt Full Bath</th>\n",
       "      <td>878.0</td>\n",
       "      <td>4.396355e-01</td>\n",
       "      <td>5.299477e-01</td>\n",
       "      <td>0.0</td>\n",
       "      <td>0.000000e+00</td>\n",
       "      <td>0.0</td>\n",
       "      <td>1.000000e+00</td>\n",
       "      <td>2.000000e+00</td>\n",
       "    </tr>\n",
       "    <tr>\n",
       "      <th>Bsmt Half Bath</th>\n",
       "      <td>878.0</td>\n",
       "      <td>5.580866e-02</td>\n",
       "      <td>2.296827e-01</td>\n",
       "      <td>0.0</td>\n",
       "      <td>0.000000e+00</td>\n",
       "      <td>0.0</td>\n",
       "      <td>0.000000e+00</td>\n",
       "      <td>1.000000e+00</td>\n",
       "    </tr>\n",
       "    <tr>\n",
       "      <th>Full Bath</th>\n",
       "      <td>878.0</td>\n",
       "      <td>1.539863e+00</td>\n",
       "      <td>5.590601e-01</td>\n",
       "      <td>0.0</td>\n",
       "      <td>1.000000e+00</td>\n",
       "      <td>2.0</td>\n",
       "      <td>2.000000e+00</td>\n",
       "      <td>4.000000e+00</td>\n",
       "    </tr>\n",
       "    <tr>\n",
       "      <th>Half Bath</th>\n",
       "      <td>878.0</td>\n",
       "      <td>3.986333e-01</td>\n",
       "      <td>5.059265e-01</td>\n",
       "      <td>0.0</td>\n",
       "      <td>0.000000e+00</td>\n",
       "      <td>0.0</td>\n",
       "      <td>1.000000e+00</td>\n",
       "      <td>2.000000e+00</td>\n",
       "    </tr>\n",
       "    <tr>\n",
       "      <th>Bedroom AbvGr</th>\n",
       "      <td>878.0</td>\n",
       "      <td>2.879271e+00</td>\n",
       "      <td>8.307123e-01</td>\n",
       "      <td>0.0</td>\n",
       "      <td>2.000000e+00</td>\n",
       "      <td>3.0</td>\n",
       "      <td>3.000000e+00</td>\n",
       "      <td>6.000000e+00</td>\n",
       "    </tr>\n",
       "    <tr>\n",
       "      <th>Kitchen AbvGr</th>\n",
       "      <td>878.0</td>\n",
       "      <td>1.047836e+00</td>\n",
       "      <td>2.239657e-01</td>\n",
       "      <td>0.0</td>\n",
       "      <td>1.000000e+00</td>\n",
       "      <td>1.0</td>\n",
       "      <td>1.000000e+00</td>\n",
       "      <td>3.000000e+00</td>\n",
       "    </tr>\n",
       "    <tr>\n",
       "      <th>TotRms AbvGrd</th>\n",
       "      <td>878.0</td>\n",
       "      <td>6.454442e+00</td>\n",
       "      <td>1.596632e+00</td>\n",
       "      <td>3.0</td>\n",
       "      <td>5.000000e+00</td>\n",
       "      <td>6.0</td>\n",
       "      <td>7.000000e+00</td>\n",
       "      <td>1.200000e+01</td>\n",
       "    </tr>\n",
       "    <tr>\n",
       "      <th>Fireplaces</th>\n",
       "      <td>878.0</td>\n",
       "      <td>6.184510e-01</td>\n",
       "      <td>6.695708e-01</td>\n",
       "      <td>0.0</td>\n",
       "      <td>0.000000e+00</td>\n",
       "      <td>1.0</td>\n",
       "      <td>1.000000e+00</td>\n",
       "      <td>3.000000e+00</td>\n",
       "    </tr>\n",
       "    <tr>\n",
       "      <th>Garage Yr Blt</th>\n",
       "      <td>833.0</td>\n",
       "      <td>1.976760e+03</td>\n",
       "      <td>2.568976e+01</td>\n",
       "      <td>1900.0</td>\n",
       "      <td>1.960000e+03</td>\n",
       "      <td>1978.0</td>\n",
       "      <td>2.001000e+03</td>\n",
       "      <td>2.010000e+03</td>\n",
       "    </tr>\n",
       "    <tr>\n",
       "      <th>Garage Cars</th>\n",
       "      <td>878.0</td>\n",
       "      <td>1.742597e+00</td>\n",
       "      <td>7.503909e-01</td>\n",
       "      <td>0.0</td>\n",
       "      <td>1.000000e+00</td>\n",
       "      <td>2.0</td>\n",
       "      <td>2.000000e+00</td>\n",
       "      <td>4.000000e+00</td>\n",
       "    </tr>\n",
       "    <tr>\n",
       "      <th>Garage Area</th>\n",
       "      <td>878.0</td>\n",
       "      <td>4.703622e+02</td>\n",
       "      <td>2.127341e+02</td>\n",
       "      <td>0.0</td>\n",
       "      <td>3.225000e+02</td>\n",
       "      <td>473.0</td>\n",
       "      <td>5.760000e+02</td>\n",
       "      <td>1.488000e+03</td>\n",
       "    </tr>\n",
       "    <tr>\n",
       "      <th>Wood Deck SF</th>\n",
       "      <td>878.0</td>\n",
       "      <td>9.343052e+01</td>\n",
       "      <td>1.211817e+02</td>\n",
       "      <td>0.0</td>\n",
       "      <td>0.000000e+00</td>\n",
       "      <td>0.0</td>\n",
       "      <td>1.707500e+02</td>\n",
       "      <td>6.900000e+02</td>\n",
       "    </tr>\n",
       "    <tr>\n",
       "      <th>Open Porch SF</th>\n",
       "      <td>878.0</td>\n",
       "      <td>4.707062e+01</td>\n",
       "      <td>6.818094e+01</td>\n",
       "      <td>0.0</td>\n",
       "      <td>0.000000e+00</td>\n",
       "      <td>27.0</td>\n",
       "      <td>6.975000e+01</td>\n",
       "      <td>7.420000e+02</td>\n",
       "    </tr>\n",
       "    <tr>\n",
       "      <th>Enclosed Porch</th>\n",
       "      <td>878.0</td>\n",
       "      <td>2.406492e+01</td>\n",
       "      <td>7.324946e+01</td>\n",
       "      <td>0.0</td>\n",
       "      <td>0.000000e+00</td>\n",
       "      <td>0.0</td>\n",
       "      <td>0.000000e+00</td>\n",
       "      <td>1.012000e+03</td>\n",
       "    </tr>\n",
       "    <tr>\n",
       "      <th>3Ssn Porch</th>\n",
       "      <td>878.0</td>\n",
       "      <td>2.597950e+00</td>\n",
       "      <td>2.496248e+01</td>\n",
       "      <td>0.0</td>\n",
       "      <td>0.000000e+00</td>\n",
       "      <td>0.0</td>\n",
       "      <td>0.000000e+00</td>\n",
       "      <td>3.600000e+02</td>\n",
       "    </tr>\n",
       "    <tr>\n",
       "      <th>Screen Porch</th>\n",
       "      <td>878.0</td>\n",
       "      <td>1.483030e+01</td>\n",
       "      <td>5.300379e+01</td>\n",
       "      <td>0.0</td>\n",
       "      <td>0.000000e+00</td>\n",
       "      <td>0.0</td>\n",
       "      <td>0.000000e+00</td>\n",
       "      <td>5.760000e+02</td>\n",
       "    </tr>\n",
       "    <tr>\n",
       "      <th>Pool Area</th>\n",
       "      <td>878.0</td>\n",
       "      <td>1.884966e+00</td>\n",
       "      <td>2.991667e+01</td>\n",
       "      <td>0.0</td>\n",
       "      <td>0.000000e+00</td>\n",
       "      <td>0.0</td>\n",
       "      <td>0.000000e+00</td>\n",
       "      <td>5.550000e+02</td>\n",
       "    </tr>\n",
       "    <tr>\n",
       "      <th>Misc Val</th>\n",
       "      <td>878.0</td>\n",
       "      <td>4.849886e+01</td>\n",
       "      <td>5.501693e+02</td>\n",
       "      <td>0.0</td>\n",
       "      <td>0.000000e+00</td>\n",
       "      <td>0.0</td>\n",
       "      <td>0.000000e+00</td>\n",
       "      <td>1.550000e+04</td>\n",
       "    </tr>\n",
       "    <tr>\n",
       "      <th>Mo Sold</th>\n",
       "      <td>878.0</td>\n",
       "      <td>6.202733e+00</td>\n",
       "      <td>2.642498e+00</td>\n",
       "      <td>1.0</td>\n",
       "      <td>5.000000e+00</td>\n",
       "      <td>6.0</td>\n",
       "      <td>8.000000e+00</td>\n",
       "      <td>1.200000e+01</td>\n",
       "    </tr>\n",
       "    <tr>\n",
       "      <th>Yr Sold</th>\n",
       "      <td>878.0</td>\n",
       "      <td>2.007826e+03</td>\n",
       "      <td>1.327861e+00</td>\n",
       "      <td>2006.0</td>\n",
       "      <td>2.007000e+03</td>\n",
       "      <td>2008.0</td>\n",
       "      <td>2.009000e+03</td>\n",
       "      <td>2.010000e+03</td>\n",
       "    </tr>\n",
       "  </tbody>\n",
       "</table>\n",
       "</div>"
      ],
      "text/plain": [
       "                 count          mean           std          min           25%  \\\n",
       "PID              878.0  7.162867e+08  1.889103e+08  526302110.0  5.284841e+08   \n",
       "MS SubClass      878.0  5.826879e+01  4.223541e+01         20.0  2.000000e+01   \n",
       "Lot Frontage     718.0  6.954596e+01  2.353394e+01         21.0  5.900000e+01   \n",
       "Lot Area         878.0  1.030703e+04  1.000267e+04       1477.0  7.297250e+03   \n",
       "Overall Qual     878.0  6.050114e+00  1.369065e+00          2.0  5.000000e+00   \n",
       "Overall Cond     878.0  5.566059e+00  1.128903e+00          1.0  5.000000e+00   \n",
       "Year Built       878.0  1.970492e+03  3.039589e+01       1880.0  1.954000e+03   \n",
       "Year Remod/Add   878.0  1.984418e+03  2.045072e+01       1950.0  1.967000e+03   \n",
       "Mas Vnr Area     877.0  1.062360e+02  1.871589e+02          0.0  0.000000e+00   \n",
       "BsmtFin SF 1     878.0  4.413280e+02  4.384573e+02          0.0  0.000000e+00   \n",
       "BsmtFin SF 2     878.0  5.389636e+01  1.786324e+02          0.0  0.000000e+00   \n",
       "Bsmt Unf SF      878.0  5.391333e+02  4.261722e+02          0.0  2.160000e+02   \n",
       "Total Bsmt SF    878.0  1.034358e+03  4.134463e+02          0.0  7.890000e+02   \n",
       "1st Flr SF       878.0  1.145787e+03  3.752641e+02        407.0  8.640000e+02   \n",
       "2nd Flr SF       878.0  3.483986e+02  4.329856e+02          0.0  0.000000e+00   \n",
       "Low Qual Fin SF  878.0  2.728929e+00  3.257255e+01          0.0  0.000000e+00   \n",
       "Gr Liv Area      878.0  1.496915e+03  5.064690e+02        407.0  1.114000e+03   \n",
       "Bsmt Full Bath   878.0  4.396355e-01  5.299477e-01          0.0  0.000000e+00   \n",
       "Bsmt Half Bath   878.0  5.580866e-02  2.296827e-01          0.0  0.000000e+00   \n",
       "Full Bath        878.0  1.539863e+00  5.590601e-01          0.0  1.000000e+00   \n",
       "Half Bath        878.0  3.986333e-01  5.059265e-01          0.0  0.000000e+00   \n",
       "Bedroom AbvGr    878.0  2.879271e+00  8.307123e-01          0.0  2.000000e+00   \n",
       "Kitchen AbvGr    878.0  1.047836e+00  2.239657e-01          0.0  1.000000e+00   \n",
       "TotRms AbvGrd    878.0  6.454442e+00  1.596632e+00          3.0  5.000000e+00   \n",
       "Fireplaces       878.0  6.184510e-01  6.695708e-01          0.0  0.000000e+00   \n",
       "Garage Yr Blt    833.0  1.976760e+03  2.568976e+01       1900.0  1.960000e+03   \n",
       "Garage Cars      878.0  1.742597e+00  7.503909e-01          0.0  1.000000e+00   \n",
       "Garage Area      878.0  4.703622e+02  2.127341e+02          0.0  3.225000e+02   \n",
       "Wood Deck SF     878.0  9.343052e+01  1.211817e+02          0.0  0.000000e+00   \n",
       "Open Porch SF    878.0  4.707062e+01  6.818094e+01          0.0  0.000000e+00   \n",
       "Enclosed Porch   878.0  2.406492e+01  7.324946e+01          0.0  0.000000e+00   \n",
       "3Ssn Porch       878.0  2.597950e+00  2.496248e+01          0.0  0.000000e+00   \n",
       "Screen Porch     878.0  1.483030e+01  5.300379e+01          0.0  0.000000e+00   \n",
       "Pool Area        878.0  1.884966e+00  2.991667e+01          0.0  0.000000e+00   \n",
       "Misc Val         878.0  4.849886e+01  5.501693e+02          0.0  0.000000e+00   \n",
       "Mo Sold          878.0  6.202733e+00  2.642498e+00          1.0  5.000000e+00   \n",
       "Yr Sold          878.0  2.007826e+03  1.327861e+00       2006.0  2.007000e+03   \n",
       "\n",
       "                         50%           75%           max  \n",
       "PID              535454155.0  9.071904e+08  1.007100e+09  \n",
       "MS SubClass             50.0  7.000000e+01  1.900000e+02  \n",
       "Lot Frontage            68.0  8.000000e+01  1.820000e+02  \n",
       "Lot Area              9446.0  1.158900e+04  2.152450e+05  \n",
       "Overall Qual             6.0  7.000000e+00  1.000000e+01  \n",
       "Overall Cond             5.0  6.000000e+00  9.000000e+00  \n",
       "Year Built            1972.0  1.999750e+03  2.010000e+03  \n",
       "Year Remod/Add        1992.0  2.003000e+03  2.010000e+03  \n",
       "Mas Vnr Area             0.0  1.720000e+02  1.378000e+03  \n",
       "BsmtFin SF 1           373.0  7.347500e+02  2.288000e+03  \n",
       "BsmtFin SF 2             0.0  0.000000e+00  1.526000e+03  \n",
       "Bsmt Unf SF            452.0  7.800000e+02  2.046000e+03  \n",
       "Total Bsmt SF          975.0  1.247000e+03  2.630000e+03  \n",
       "1st Flr SF            1063.0  1.358000e+03  2.674000e+03  \n",
       "2nd Flr SF               0.0  7.200000e+02  2.065000e+03  \n",
       "Low Qual Fin SF          0.0  0.000000e+00  4.810000e+02  \n",
       "Gr Liv Area           1436.0  1.779000e+03  4.476000e+03  \n",
       "Bsmt Full Bath           0.0  1.000000e+00  2.000000e+00  \n",
       "Bsmt Half Bath           0.0  0.000000e+00  1.000000e+00  \n",
       "Full Bath                2.0  2.000000e+00  4.000000e+00  \n",
       "Half Bath                0.0  1.000000e+00  2.000000e+00  \n",
       "Bedroom AbvGr            3.0  3.000000e+00  6.000000e+00  \n",
       "Kitchen AbvGr            1.0  1.000000e+00  3.000000e+00  \n",
       "TotRms AbvGrd            6.0  7.000000e+00  1.200000e+01  \n",
       "Fireplaces               1.0  1.000000e+00  3.000000e+00  \n",
       "Garage Yr Blt         1978.0  2.001000e+03  2.010000e+03  \n",
       "Garage Cars              2.0  2.000000e+00  4.000000e+00  \n",
       "Garage Area            473.0  5.760000e+02  1.488000e+03  \n",
       "Wood Deck SF             0.0  1.707500e+02  6.900000e+02  \n",
       "Open Porch SF           27.0  6.975000e+01  7.420000e+02  \n",
       "Enclosed Porch           0.0  0.000000e+00  1.012000e+03  \n",
       "3Ssn Porch               0.0  0.000000e+00  3.600000e+02  \n",
       "Screen Porch             0.0  0.000000e+00  5.760000e+02  \n",
       "Pool Area                0.0  0.000000e+00  5.550000e+02  \n",
       "Misc Val                 0.0  0.000000e+00  1.550000e+04  \n",
       "Mo Sold                  6.0  8.000000e+00  1.200000e+01  \n",
       "Yr Sold               2008.0  2.009000e+03  2.010000e+03  "
      ]
     },
     "execution_count": 1280,
     "metadata": {},
     "output_type": "execute_result"
    }
   ],
   "source": [
    "#Summary Statistics for dataset\n",
    "df_test.describe().T"
   ]
  },
  {
   "cell_type": "code",
   "execution_count": 1281,
   "metadata": {},
   "outputs": [
    {
     "data": {
      "text/plain": [
       "Index(['PID', 'MS SubClass', 'MS Zoning', 'Lot Frontage', 'Lot Area', 'Street',\n",
       "       'Alley', 'Lot Shape', 'Land Contour', 'Utilities', 'Lot Config',\n",
       "       'Land Slope', 'Neighborhood', 'Condition 1', 'Condition 2', 'Bldg Type',\n",
       "       'House Style', 'Overall Qual', 'Overall Cond', 'Year Built',\n",
       "       'Year Remod/Add', 'Roof Style', 'Roof Matl', 'Exterior 1st',\n",
       "       'Exterior 2nd', 'Mas Vnr Type', 'Mas Vnr Area', 'Exter Qual',\n",
       "       'Exter Cond', 'Foundation', 'Bsmt Qual', 'Bsmt Cond', 'Bsmt Exposure',\n",
       "       'BsmtFin Type 1', 'BsmtFin SF 1', 'BsmtFin Type 2', 'BsmtFin SF 2',\n",
       "       'Bsmt Unf SF', 'Total Bsmt SF', 'Heating', 'Heating QC', 'Central Air',\n",
       "       'Electrical', '1st Flr SF', '2nd Flr SF', 'Low Qual Fin SF',\n",
       "       'Gr Liv Area', 'Bsmt Full Bath', 'Bsmt Half Bath', 'Full Bath',\n",
       "       'Half Bath', 'Bedroom AbvGr', 'Kitchen AbvGr', 'Kitchen Qual',\n",
       "       'TotRms AbvGrd', 'Functional', 'Fireplaces', 'Fireplace Qu',\n",
       "       'Garage Type', 'Garage Yr Blt', 'Garage Finish', 'Garage Cars',\n",
       "       'Garage Area', 'Garage Qual', 'Garage Cond', 'Paved Drive',\n",
       "       'Wood Deck SF', 'Open Porch SF', 'Enclosed Porch', '3Ssn Porch',\n",
       "       'Screen Porch', 'Pool Area', 'Pool QC', 'Fence', 'Misc Feature',\n",
       "       'Misc Val', 'Mo Sold', 'Yr Sold', 'Sale Type', 'SalePrice'],\n",
       "      dtype='object')"
      ]
     },
     "execution_count": 1281,
     "metadata": {},
     "output_type": "execute_result"
    }
   ],
   "source": [
    "df_train.columns"
   ]
  },
  {
   "cell_type": "code",
   "execution_count": 1282,
   "metadata": {},
   "outputs": [
    {
     "data": {
      "text/plain": [
       "Index(['PID', 'MS SubClass', 'MS Zoning', 'Lot Frontage', 'Lot Area', 'Street',\n",
       "       'Alley', 'Lot Shape', 'Land Contour', 'Utilities', 'Lot Config',\n",
       "       'Land Slope', 'Neighborhood', 'Condition 1', 'Condition 2', 'Bldg Type',\n",
       "       'House Style', 'Overall Qual', 'Overall Cond', 'Year Built',\n",
       "       'Year Remod/Add', 'Roof Style', 'Roof Matl', 'Exterior 1st',\n",
       "       'Exterior 2nd', 'Mas Vnr Type', 'Mas Vnr Area', 'Exter Qual',\n",
       "       'Exter Cond', 'Foundation', 'Bsmt Qual', 'Bsmt Cond', 'Bsmt Exposure',\n",
       "       'BsmtFin Type 1', 'BsmtFin SF 1', 'BsmtFin Type 2', 'BsmtFin SF 2',\n",
       "       'Bsmt Unf SF', 'Total Bsmt SF', 'Heating', 'Heating QC', 'Central Air',\n",
       "       'Electrical', '1st Flr SF', '2nd Flr SF', 'Low Qual Fin SF',\n",
       "       'Gr Liv Area', 'Bsmt Full Bath', 'Bsmt Half Bath', 'Full Bath',\n",
       "       'Half Bath', 'Bedroom AbvGr', 'Kitchen AbvGr', 'Kitchen Qual',\n",
       "       'TotRms AbvGrd', 'Functional', 'Fireplaces', 'Fireplace Qu',\n",
       "       'Garage Type', 'Garage Yr Blt', 'Garage Finish', 'Garage Cars',\n",
       "       'Garage Area', 'Garage Qual', 'Garage Cond', 'Paved Drive',\n",
       "       'Wood Deck SF', 'Open Porch SF', 'Enclosed Porch', '3Ssn Porch',\n",
       "       'Screen Porch', 'Pool Area', 'Pool QC', 'Fence', 'Misc Feature',\n",
       "       'Misc Val', 'Mo Sold', 'Yr Sold', 'Sale Type'],\n",
       "      dtype='object')"
      ]
     },
     "execution_count": 1282,
     "metadata": {},
     "output_type": "execute_result"
    }
   ],
   "source": [
    "df_test.columns"
   ]
  },
  {
   "cell_type": "code",
   "execution_count": 1283,
   "metadata": {},
   "outputs": [
    {
     "data": {
      "text/plain": [
       "PID               int64\n",
       "MS SubClass       int64\n",
       "MS Zoning        object\n",
       "Lot Frontage    float64\n",
       "Lot Area          int64\n",
       "                 ...   \n",
       "Misc Val          int64\n",
       "Mo Sold           int64\n",
       "Yr Sold           int64\n",
       "Sale Type        object\n",
       "SalePrice         int64\n",
       "Length: 80, dtype: object"
      ]
     },
     "execution_count": 1283,
     "metadata": {},
     "output_type": "execute_result"
    }
   ],
   "source": [
    "df_train.dtypes"
   ]
  },
  {
   "cell_type": "code",
   "execution_count": 1284,
   "metadata": {},
   "outputs": [
    {
     "name": "stdout",
     "output_type": "stream",
     "text": [
      "<class 'pandas.core.frame.DataFrame'>\n",
      "Int64Index: 2051 entries, 109 to 10\n",
      "Data columns (total 80 columns):\n",
      " #   Column           Non-Null Count  Dtype  \n",
      "---  ------           --------------  -----  \n",
      " 0   PID              2051 non-null   int64  \n",
      " 1   MS SubClass      2051 non-null   int64  \n",
      " 2   MS Zoning        2051 non-null   object \n",
      " 3   Lot Frontage     1721 non-null   float64\n",
      " 4   Lot Area         2051 non-null   int64  \n",
      " 5   Street           2051 non-null   object \n",
      " 6   Alley            140 non-null    object \n",
      " 7   Lot Shape        2051 non-null   object \n",
      " 8   Land Contour     2051 non-null   object \n",
      " 9   Utilities        2051 non-null   object \n",
      " 10  Lot Config       2051 non-null   object \n",
      " 11  Land Slope       2051 non-null   object \n",
      " 12  Neighborhood     2051 non-null   object \n",
      " 13  Condition 1      2051 non-null   object \n",
      " 14  Condition 2      2051 non-null   object \n",
      " 15  Bldg Type        2051 non-null   object \n",
      " 16  House Style      2051 non-null   object \n",
      " 17  Overall Qual     2051 non-null   int64  \n",
      " 18  Overall Cond     2051 non-null   int64  \n",
      " 19  Year Built       2051 non-null   int64  \n",
      " 20  Year Remod/Add   2051 non-null   int64  \n",
      " 21  Roof Style       2051 non-null   object \n",
      " 22  Roof Matl        2051 non-null   object \n",
      " 23  Exterior 1st     2051 non-null   object \n",
      " 24  Exterior 2nd     2051 non-null   object \n",
      " 25  Mas Vnr Type     2029 non-null   object \n",
      " 26  Mas Vnr Area     2029 non-null   float64\n",
      " 27  Exter Qual       2051 non-null   object \n",
      " 28  Exter Cond       2051 non-null   object \n",
      " 29  Foundation       2051 non-null   object \n",
      " 30  Bsmt Qual        1996 non-null   object \n",
      " 31  Bsmt Cond        1996 non-null   object \n",
      " 32  Bsmt Exposure    1993 non-null   object \n",
      " 33  BsmtFin Type 1   1996 non-null   object \n",
      " 34  BsmtFin SF 1     2050 non-null   float64\n",
      " 35  BsmtFin Type 2   1995 non-null   object \n",
      " 36  BsmtFin SF 2     2050 non-null   float64\n",
      " 37  Bsmt Unf SF      2050 non-null   float64\n",
      " 38  Total Bsmt SF    2050 non-null   float64\n",
      " 39  Heating          2051 non-null   object \n",
      " 40  Heating QC       2051 non-null   object \n",
      " 41  Central Air      2051 non-null   object \n",
      " 42  Electrical       2051 non-null   object \n",
      " 43  1st Flr SF       2051 non-null   int64  \n",
      " 44  2nd Flr SF       2051 non-null   int64  \n",
      " 45  Low Qual Fin SF  2051 non-null   int64  \n",
      " 46  Gr Liv Area      2051 non-null   int64  \n",
      " 47  Bsmt Full Bath   2049 non-null   float64\n",
      " 48  Bsmt Half Bath   2049 non-null   float64\n",
      " 49  Full Bath        2051 non-null   int64  \n",
      " 50  Half Bath        2051 non-null   int64  \n",
      " 51  Bedroom AbvGr    2051 non-null   int64  \n",
      " 52  Kitchen AbvGr    2051 non-null   int64  \n",
      " 53  Kitchen Qual     2051 non-null   object \n",
      " 54  TotRms AbvGrd    2051 non-null   int64  \n",
      " 55  Functional       2051 non-null   object \n",
      " 56  Fireplaces       2051 non-null   int64  \n",
      " 57  Fireplace Qu     1051 non-null   object \n",
      " 58  Garage Type      1938 non-null   object \n",
      " 59  Garage Yr Blt    1937 non-null   float64\n",
      " 60  Garage Finish    1937 non-null   object \n",
      " 61  Garage Cars      2050 non-null   float64\n",
      " 62  Garage Area      2050 non-null   float64\n",
      " 63  Garage Qual      1937 non-null   object \n",
      " 64  Garage Cond      1937 non-null   object \n",
      " 65  Paved Drive      2051 non-null   object \n",
      " 66  Wood Deck SF     2051 non-null   int64  \n",
      " 67  Open Porch SF    2051 non-null   int64  \n",
      " 68  Enclosed Porch   2051 non-null   int64  \n",
      " 69  3Ssn Porch       2051 non-null   int64  \n",
      " 70  Screen Porch     2051 non-null   int64  \n",
      " 71  Pool Area        2051 non-null   int64  \n",
      " 72  Pool QC          9 non-null      object \n",
      " 73  Fence            400 non-null    object \n",
      " 74  Misc Feature     65 non-null     object \n",
      " 75  Misc Val         2051 non-null   int64  \n",
      " 76  Mo Sold          2051 non-null   int64  \n",
      " 77  Yr Sold          2051 non-null   int64  \n",
      " 78  Sale Type        2051 non-null   object \n",
      " 79  SalePrice        2051 non-null   int64  \n",
      "dtypes: float64(11), int64(27), object(42)\n",
      "memory usage: 1.3+ MB\n"
     ]
    }
   ],
   "source": [
    "df_train.info()"
   ]
  },
  {
   "cell_type": "code",
   "execution_count": 1285,
   "metadata": {},
   "outputs": [
    {
     "data": {
      "text/plain": [
       "9822"
      ]
     },
     "execution_count": 1285,
     "metadata": {},
     "output_type": "execute_result"
    }
   ],
   "source": [
    "df_train.isnull().sum().sum()"
   ]
  },
  {
   "cell_type": "code",
   "execution_count": 1286,
   "metadata": {},
   "outputs": [
    {
     "data": {
      "text/plain": [
       "4171"
      ]
     },
     "execution_count": 1286,
     "metadata": {},
     "output_type": "execute_result"
    }
   ],
   "source": [
    "df_test.isnull().sum().sum()"
   ]
  },
  {
   "cell_type": "code",
   "execution_count": 1288,
   "metadata": {},
   "outputs": [],
   "source": [
    "#Referenced from https://stackoverflow.com/questions/26266362/how-to-count-the-nan-values-in-a-column-in-pandas-dataframe\n",
    "def missing_values_table(df):\n",
    "        mis_val = df_train.isnull().sum()\n",
    "        mis_val_percent = 100 * df_train.isnull().sum() / len(df_train)\n",
    "        mis_val_table = pd.concat([mis_val, mis_val_percent], axis=1)\n",
    "        mis_val_table_ren_columns = mis_val_table.rename(\n",
    "        columns = {0 : 'Missing Values', 1 : '% of Total Values'})\n",
    "        mis_val_table_ren_columns = mis_val_table_ren_columns[\n",
    "            mis_val_table_ren_columns.iloc[:,1] != 0].sort_values(\n",
    "        '% of Total Values', ascending=False).round(1)\n",
    "        print (\"Your selected dataframe has \" + str(df_train.shape[1]) + \" columns.\\n\"      \n",
    "            \"There are \" + str(mis_val_table_ren_columns.shape[0]) +\n",
    "              \" columns that have missing values.\")\n",
    "        return mis_val_table_ren_columns"
   ]
  },
  {
   "cell_type": "code",
   "execution_count": 1289,
   "metadata": {},
   "outputs": [
    {
     "name": "stdout",
     "output_type": "stream",
     "text": [
      "Your selected dataframe has 80 columns.\n",
      "There are 26 columns that have missing values.\n"
     ]
    },
    {
     "data": {
      "text/html": [
       "<div>\n",
       "<style scoped>\n",
       "    .dataframe tbody tr th:only-of-type {\n",
       "        vertical-align: middle;\n",
       "    }\n",
       "\n",
       "    .dataframe tbody tr th {\n",
       "        vertical-align: top;\n",
       "    }\n",
       "\n",
       "    .dataframe thead th {\n",
       "        text-align: right;\n",
       "    }\n",
       "</style>\n",
       "<table border=\"1\" class=\"dataframe\">\n",
       "  <thead>\n",
       "    <tr style=\"text-align: right;\">\n",
       "      <th></th>\n",
       "      <th>Missing Values</th>\n",
       "      <th>% of Total Values</th>\n",
       "    </tr>\n",
       "  </thead>\n",
       "  <tbody>\n",
       "    <tr>\n",
       "      <th>Pool QC</th>\n",
       "      <td>2042</td>\n",
       "      <td>99.6</td>\n",
       "    </tr>\n",
       "    <tr>\n",
       "      <th>Misc Feature</th>\n",
       "      <td>1986</td>\n",
       "      <td>96.8</td>\n",
       "    </tr>\n",
       "    <tr>\n",
       "      <th>Alley</th>\n",
       "      <td>1911</td>\n",
       "      <td>93.2</td>\n",
       "    </tr>\n",
       "    <tr>\n",
       "      <th>Fence</th>\n",
       "      <td>1651</td>\n",
       "      <td>80.5</td>\n",
       "    </tr>\n",
       "    <tr>\n",
       "      <th>Fireplace Qu</th>\n",
       "      <td>1000</td>\n",
       "      <td>48.8</td>\n",
       "    </tr>\n",
       "    <tr>\n",
       "      <th>Lot Frontage</th>\n",
       "      <td>330</td>\n",
       "      <td>16.1</td>\n",
       "    </tr>\n",
       "    <tr>\n",
       "      <th>Garage Yr Blt</th>\n",
       "      <td>114</td>\n",
       "      <td>5.6</td>\n",
       "    </tr>\n",
       "    <tr>\n",
       "      <th>Garage Cond</th>\n",
       "      <td>114</td>\n",
       "      <td>5.6</td>\n",
       "    </tr>\n",
       "    <tr>\n",
       "      <th>Garage Qual</th>\n",
       "      <td>114</td>\n",
       "      <td>5.6</td>\n",
       "    </tr>\n",
       "    <tr>\n",
       "      <th>Garage Finish</th>\n",
       "      <td>114</td>\n",
       "      <td>5.6</td>\n",
       "    </tr>\n",
       "    <tr>\n",
       "      <th>Garage Type</th>\n",
       "      <td>113</td>\n",
       "      <td>5.5</td>\n",
       "    </tr>\n",
       "    <tr>\n",
       "      <th>Bsmt Exposure</th>\n",
       "      <td>58</td>\n",
       "      <td>2.8</td>\n",
       "    </tr>\n",
       "    <tr>\n",
       "      <th>BsmtFin Type 2</th>\n",
       "      <td>56</td>\n",
       "      <td>2.7</td>\n",
       "    </tr>\n",
       "    <tr>\n",
       "      <th>Bsmt Cond</th>\n",
       "      <td>55</td>\n",
       "      <td>2.7</td>\n",
       "    </tr>\n",
       "    <tr>\n",
       "      <th>Bsmt Qual</th>\n",
       "      <td>55</td>\n",
       "      <td>2.7</td>\n",
       "    </tr>\n",
       "    <tr>\n",
       "      <th>BsmtFin Type 1</th>\n",
       "      <td>55</td>\n",
       "      <td>2.7</td>\n",
       "    </tr>\n",
       "    <tr>\n",
       "      <th>Mas Vnr Area</th>\n",
       "      <td>22</td>\n",
       "      <td>1.1</td>\n",
       "    </tr>\n",
       "    <tr>\n",
       "      <th>Mas Vnr Type</th>\n",
       "      <td>22</td>\n",
       "      <td>1.1</td>\n",
       "    </tr>\n",
       "    <tr>\n",
       "      <th>Bsmt Half Bath</th>\n",
       "      <td>2</td>\n",
       "      <td>0.1</td>\n",
       "    </tr>\n",
       "    <tr>\n",
       "      <th>Bsmt Full Bath</th>\n",
       "      <td>2</td>\n",
       "      <td>0.1</td>\n",
       "    </tr>\n",
       "    <tr>\n",
       "      <th>Total Bsmt SF</th>\n",
       "      <td>1</td>\n",
       "      <td>0.0</td>\n",
       "    </tr>\n",
       "    <tr>\n",
       "      <th>Bsmt Unf SF</th>\n",
       "      <td>1</td>\n",
       "      <td>0.0</td>\n",
       "    </tr>\n",
       "    <tr>\n",
       "      <th>BsmtFin SF 2</th>\n",
       "      <td>1</td>\n",
       "      <td>0.0</td>\n",
       "    </tr>\n",
       "    <tr>\n",
       "      <th>Garage Cars</th>\n",
       "      <td>1</td>\n",
       "      <td>0.0</td>\n",
       "    </tr>\n",
       "    <tr>\n",
       "      <th>Garage Area</th>\n",
       "      <td>1</td>\n",
       "      <td>0.0</td>\n",
       "    </tr>\n",
       "    <tr>\n",
       "      <th>BsmtFin SF 1</th>\n",
       "      <td>1</td>\n",
       "      <td>0.0</td>\n",
       "    </tr>\n",
       "  </tbody>\n",
       "</table>\n",
       "</div>"
      ],
      "text/plain": [
       "                Missing Values  % of Total Values\n",
       "Pool QC                   2042               99.6\n",
       "Misc Feature              1986               96.8\n",
       "Alley                     1911               93.2\n",
       "Fence                     1651               80.5\n",
       "Fireplace Qu              1000               48.8\n",
       "Lot Frontage               330               16.1\n",
       "Garage Yr Blt              114                5.6\n",
       "Garage Cond                114                5.6\n",
       "Garage Qual                114                5.6\n",
       "Garage Finish              114                5.6\n",
       "Garage Type                113                5.5\n",
       "Bsmt Exposure               58                2.8\n",
       "BsmtFin Type 2              56                2.7\n",
       "Bsmt Cond                   55                2.7\n",
       "Bsmt Qual                   55                2.7\n",
       "BsmtFin Type 1              55                2.7\n",
       "Mas Vnr Area                22                1.1\n",
       "Mas Vnr Type                22                1.1\n",
       "Bsmt Half Bath               2                0.1\n",
       "Bsmt Full Bath               2                0.1\n",
       "Total Bsmt SF                1                0.0\n",
       "Bsmt Unf SF                  1                0.0\n",
       "BsmtFin SF 2                 1                0.0\n",
       "Garage Cars                  1                0.0\n",
       "Garage Area                  1                0.0\n",
       "BsmtFin SF 1                 1                0.0"
      ]
     },
     "execution_count": 1289,
     "metadata": {},
     "output_type": "execute_result"
    }
   ],
   "source": [
    "missing_values_table(df_train)"
   ]
  },
  {
   "cell_type": "code",
   "execution_count": 1290,
   "metadata": {},
   "outputs": [
    {
     "name": "stdout",
     "output_type": "stream",
     "text": [
      "Your selected dataframe has 80 columns.\n",
      "There are 26 columns that have missing values.\n"
     ]
    },
    {
     "data": {
      "text/html": [
       "<div>\n",
       "<style scoped>\n",
       "    .dataframe tbody tr th:only-of-type {\n",
       "        vertical-align: middle;\n",
       "    }\n",
       "\n",
       "    .dataframe tbody tr th {\n",
       "        vertical-align: top;\n",
       "    }\n",
       "\n",
       "    .dataframe thead th {\n",
       "        text-align: right;\n",
       "    }\n",
       "</style>\n",
       "<table border=\"1\" class=\"dataframe\">\n",
       "  <thead>\n",
       "    <tr style=\"text-align: right;\">\n",
       "      <th></th>\n",
       "      <th>Missing Values</th>\n",
       "      <th>% of Total Values</th>\n",
       "    </tr>\n",
       "  </thead>\n",
       "  <tbody>\n",
       "    <tr>\n",
       "      <th>Pool QC</th>\n",
       "      <td>2042</td>\n",
       "      <td>99.6</td>\n",
       "    </tr>\n",
       "    <tr>\n",
       "      <th>Misc Feature</th>\n",
       "      <td>1986</td>\n",
       "      <td>96.8</td>\n",
       "    </tr>\n",
       "    <tr>\n",
       "      <th>Alley</th>\n",
       "      <td>1911</td>\n",
       "      <td>93.2</td>\n",
       "    </tr>\n",
       "    <tr>\n",
       "      <th>Fence</th>\n",
       "      <td>1651</td>\n",
       "      <td>80.5</td>\n",
       "    </tr>\n",
       "    <tr>\n",
       "      <th>Fireplace Qu</th>\n",
       "      <td>1000</td>\n",
       "      <td>48.8</td>\n",
       "    </tr>\n",
       "    <tr>\n",
       "      <th>Lot Frontage</th>\n",
       "      <td>330</td>\n",
       "      <td>16.1</td>\n",
       "    </tr>\n",
       "    <tr>\n",
       "      <th>Garage Yr Blt</th>\n",
       "      <td>114</td>\n",
       "      <td>5.6</td>\n",
       "    </tr>\n",
       "    <tr>\n",
       "      <th>Garage Cond</th>\n",
       "      <td>114</td>\n",
       "      <td>5.6</td>\n",
       "    </tr>\n",
       "    <tr>\n",
       "      <th>Garage Qual</th>\n",
       "      <td>114</td>\n",
       "      <td>5.6</td>\n",
       "    </tr>\n",
       "    <tr>\n",
       "      <th>Garage Finish</th>\n",
       "      <td>114</td>\n",
       "      <td>5.6</td>\n",
       "    </tr>\n",
       "    <tr>\n",
       "      <th>Garage Type</th>\n",
       "      <td>113</td>\n",
       "      <td>5.5</td>\n",
       "    </tr>\n",
       "    <tr>\n",
       "      <th>Bsmt Exposure</th>\n",
       "      <td>58</td>\n",
       "      <td>2.8</td>\n",
       "    </tr>\n",
       "    <tr>\n",
       "      <th>BsmtFin Type 2</th>\n",
       "      <td>56</td>\n",
       "      <td>2.7</td>\n",
       "    </tr>\n",
       "    <tr>\n",
       "      <th>Bsmt Cond</th>\n",
       "      <td>55</td>\n",
       "      <td>2.7</td>\n",
       "    </tr>\n",
       "    <tr>\n",
       "      <th>Bsmt Qual</th>\n",
       "      <td>55</td>\n",
       "      <td>2.7</td>\n",
       "    </tr>\n",
       "    <tr>\n",
       "      <th>BsmtFin Type 1</th>\n",
       "      <td>55</td>\n",
       "      <td>2.7</td>\n",
       "    </tr>\n",
       "    <tr>\n",
       "      <th>Mas Vnr Area</th>\n",
       "      <td>22</td>\n",
       "      <td>1.1</td>\n",
       "    </tr>\n",
       "    <tr>\n",
       "      <th>Mas Vnr Type</th>\n",
       "      <td>22</td>\n",
       "      <td>1.1</td>\n",
       "    </tr>\n",
       "    <tr>\n",
       "      <th>Bsmt Half Bath</th>\n",
       "      <td>2</td>\n",
       "      <td>0.1</td>\n",
       "    </tr>\n",
       "    <tr>\n",
       "      <th>Bsmt Full Bath</th>\n",
       "      <td>2</td>\n",
       "      <td>0.1</td>\n",
       "    </tr>\n",
       "    <tr>\n",
       "      <th>Total Bsmt SF</th>\n",
       "      <td>1</td>\n",
       "      <td>0.0</td>\n",
       "    </tr>\n",
       "    <tr>\n",
       "      <th>Bsmt Unf SF</th>\n",
       "      <td>1</td>\n",
       "      <td>0.0</td>\n",
       "    </tr>\n",
       "    <tr>\n",
       "      <th>BsmtFin SF 2</th>\n",
       "      <td>1</td>\n",
       "      <td>0.0</td>\n",
       "    </tr>\n",
       "    <tr>\n",
       "      <th>Garage Cars</th>\n",
       "      <td>1</td>\n",
       "      <td>0.0</td>\n",
       "    </tr>\n",
       "    <tr>\n",
       "      <th>Garage Area</th>\n",
       "      <td>1</td>\n",
       "      <td>0.0</td>\n",
       "    </tr>\n",
       "    <tr>\n",
       "      <th>BsmtFin SF 1</th>\n",
       "      <td>1</td>\n",
       "      <td>0.0</td>\n",
       "    </tr>\n",
       "  </tbody>\n",
       "</table>\n",
       "</div>"
      ],
      "text/plain": [
       "                Missing Values  % of Total Values\n",
       "Pool QC                   2042               99.6\n",
       "Misc Feature              1986               96.8\n",
       "Alley                     1911               93.2\n",
       "Fence                     1651               80.5\n",
       "Fireplace Qu              1000               48.8\n",
       "Lot Frontage               330               16.1\n",
       "Garage Yr Blt              114                5.6\n",
       "Garage Cond                114                5.6\n",
       "Garage Qual                114                5.6\n",
       "Garage Finish              114                5.6\n",
       "Garage Type                113                5.5\n",
       "Bsmt Exposure               58                2.8\n",
       "BsmtFin Type 2              56                2.7\n",
       "Bsmt Cond                   55                2.7\n",
       "Bsmt Qual                   55                2.7\n",
       "BsmtFin Type 1              55                2.7\n",
       "Mas Vnr Area                22                1.1\n",
       "Mas Vnr Type                22                1.1\n",
       "Bsmt Half Bath               2                0.1\n",
       "Bsmt Full Bath               2                0.1\n",
       "Total Bsmt SF                1                0.0\n",
       "Bsmt Unf SF                  1                0.0\n",
       "BsmtFin SF 2                 1                0.0\n",
       "Garage Cars                  1                0.0\n",
       "Garage Area                  1                0.0\n",
       "BsmtFin SF 1                 1                0.0"
      ]
     },
     "execution_count": 1290,
     "metadata": {},
     "output_type": "execute_result"
    }
   ],
   "source": [
    "missing_values_table(df_test)"
   ]
  },
  {
   "cell_type": "code",
   "execution_count": 1291,
   "metadata": {},
   "outputs": [
    {
     "name": "stdout",
     "output_type": "stream",
     "text": [
      "<class 'pandas.core.frame.DataFrame'>\n",
      "Int64Index: 2051 entries, 109 to 10\n",
      "Data columns (total 80 columns):\n",
      " #   Column           Non-Null Count  Dtype  \n",
      "---  ------           --------------  -----  \n",
      " 0   PID              2051 non-null   int64  \n",
      " 1   MS SubClass      2051 non-null   int64  \n",
      " 2   MS Zoning        2051 non-null   object \n",
      " 3   Lot Frontage     1721 non-null   float64\n",
      " 4   Lot Area         2051 non-null   int64  \n",
      " 5   Street           2051 non-null   object \n",
      " 6   Alley            140 non-null    object \n",
      " 7   Lot Shape        2051 non-null   object \n",
      " 8   Land Contour     2051 non-null   object \n",
      " 9   Utilities        2051 non-null   object \n",
      " 10  Lot Config       2051 non-null   object \n",
      " 11  Land Slope       2051 non-null   object \n",
      " 12  Neighborhood     2051 non-null   object \n",
      " 13  Condition 1      2051 non-null   object \n",
      " 14  Condition 2      2051 non-null   object \n",
      " 15  Bldg Type        2051 non-null   object \n",
      " 16  House Style      2051 non-null   object \n",
      " 17  Overall Qual     2051 non-null   int64  \n",
      " 18  Overall Cond     2051 non-null   int64  \n",
      " 19  Year Built       2051 non-null   int64  \n",
      " 20  Year Remod/Add   2051 non-null   int64  \n",
      " 21  Roof Style       2051 non-null   object \n",
      " 22  Roof Matl        2051 non-null   object \n",
      " 23  Exterior 1st     2051 non-null   object \n",
      " 24  Exterior 2nd     2051 non-null   object \n",
      " 25  Mas Vnr Type     2029 non-null   object \n",
      " 26  Mas Vnr Area     2029 non-null   float64\n",
      " 27  Exter Qual       2051 non-null   object \n",
      " 28  Exter Cond       2051 non-null   object \n",
      " 29  Foundation       2051 non-null   object \n",
      " 30  Bsmt Qual        1996 non-null   object \n",
      " 31  Bsmt Cond        1996 non-null   object \n",
      " 32  Bsmt Exposure    1993 non-null   object \n",
      " 33  BsmtFin Type 1   1996 non-null   object \n",
      " 34  BsmtFin SF 1     2050 non-null   float64\n",
      " 35  BsmtFin Type 2   1995 non-null   object \n",
      " 36  BsmtFin SF 2     2050 non-null   float64\n",
      " 37  Bsmt Unf SF      2050 non-null   float64\n",
      " 38  Total Bsmt SF    2050 non-null   float64\n",
      " 39  Heating          2051 non-null   object \n",
      " 40  Heating QC       2051 non-null   object \n",
      " 41  Central Air      2051 non-null   object \n",
      " 42  Electrical       2051 non-null   object \n",
      " 43  1st Flr SF       2051 non-null   int64  \n",
      " 44  2nd Flr SF       2051 non-null   int64  \n",
      " 45  Low Qual Fin SF  2051 non-null   int64  \n",
      " 46  Gr Liv Area      2051 non-null   int64  \n",
      " 47  Bsmt Full Bath   2049 non-null   float64\n",
      " 48  Bsmt Half Bath   2049 non-null   float64\n",
      " 49  Full Bath        2051 non-null   int64  \n",
      " 50  Half Bath        2051 non-null   int64  \n",
      " 51  Bedroom AbvGr    2051 non-null   int64  \n",
      " 52  Kitchen AbvGr    2051 non-null   int64  \n",
      " 53  Kitchen Qual     2051 non-null   object \n",
      " 54  TotRms AbvGrd    2051 non-null   int64  \n",
      " 55  Functional       2051 non-null   object \n",
      " 56  Fireplaces       2051 non-null   int64  \n",
      " 57  Fireplace Qu     1051 non-null   object \n",
      " 58  Garage Type      1938 non-null   object \n",
      " 59  Garage Yr Blt    1937 non-null   float64\n",
      " 60  Garage Finish    1937 non-null   object \n",
      " 61  Garage Cars      2050 non-null   float64\n",
      " 62  Garage Area      2050 non-null   float64\n",
      " 63  Garage Qual      1937 non-null   object \n",
      " 64  Garage Cond      1937 non-null   object \n",
      " 65  Paved Drive      2051 non-null   object \n",
      " 66  Wood Deck SF     2051 non-null   int64  \n",
      " 67  Open Porch SF    2051 non-null   int64  \n",
      " 68  Enclosed Porch   2051 non-null   int64  \n",
      " 69  3Ssn Porch       2051 non-null   int64  \n",
      " 70  Screen Porch     2051 non-null   int64  \n",
      " 71  Pool Area        2051 non-null   int64  \n",
      " 72  Pool QC          9 non-null      object \n",
      " 73  Fence            400 non-null    object \n",
      " 74  Misc Feature     65 non-null     object \n",
      " 75  Misc Val         2051 non-null   int64  \n",
      " 76  Mo Sold          2051 non-null   int64  \n",
      " 77  Yr Sold          2051 non-null   int64  \n",
      " 78  Sale Type        2051 non-null   object \n",
      " 79  SalePrice        2051 non-null   int64  \n",
      "dtypes: float64(11), int64(27), object(42)\n",
      "memory usage: 1.3+ MB\n"
     ]
    }
   ],
   "source": [
    "df_train.info()\n"
   ]
  },
  {
   "cell_type": "code",
   "execution_count": 1292,
   "metadata": {},
   "outputs": [
    {
     "data": {
      "text/plain": [
       "Lot Frontage       330\n",
       "Alley             1911\n",
       "Mas Vnr Type        22\n",
       "Mas Vnr Area        22\n",
       "Bsmt Qual           55\n",
       "Bsmt Cond           55\n",
       "Bsmt Exposure       58\n",
       "BsmtFin Type 1      55\n",
       "BsmtFin SF 1         1\n",
       "BsmtFin Type 2      56\n",
       "BsmtFin SF 2         1\n",
       "Bsmt Unf SF          1\n",
       "Total Bsmt SF        1\n",
       "Bsmt Full Bath       2\n",
       "Bsmt Half Bath       2\n",
       "Fireplace Qu      1000\n",
       "Garage Type        113\n",
       "Garage Yr Blt      114\n",
       "Garage Finish      114\n",
       "Garage Cars          1\n",
       "Garage Area          1\n",
       "Garage Qual        114\n",
       "Garage Cond        114\n",
       "Pool QC           2042\n",
       "Fence             1651\n",
       "Misc Feature      1986\n",
       "dtype: int64"
      ]
     },
     "execution_count": 1292,
     "metadata": {},
     "output_type": "execute_result"
    }
   ],
   "source": [
    "df_train.isnull().sum()[df_train.isnull().sum()>0]"
   ]
  },
  {
   "cell_type": "code",
   "execution_count": 1331,
   "metadata": {},
   "outputs": [
    {
     "name": "stdout",
     "output_type": "stream",
     "text": [
      "<class 'pandas.core.frame.DataFrame'>\n",
      "Int64Index: 2051 entries, 109 to 10\n",
      "Columns: 215 entries, PID to Bsmt Total Area\n",
      "dtypes: float64(13), int64(35), object(14), uint8(153)\n",
      "memory usage: 1.4+ MB\n"
     ]
    }
   ],
   "source": [
    "df_train.info()"
   ]
  },
  {
   "cell_type": "code",
   "execution_count": 1293,
   "metadata": {},
   "outputs": [],
   "source": [
    "#new dictionary has been created to fill null values in numerical columns with the mean average of that column.\n",
    "#Ordinal values have been coded in descending order from best to least, with NaN values being assigned a 0 value. \n",
    "#Replacement dictionary was created in collaboration with Brandon Greenspan during project work time. \n",
    "new_dict = {\n",
    "    'Alley' : {np.nan : 'none'},\n",
    "    'Lot Frontage': {np.nan : df_train['Lot Frontage'].mean()},\n",
    "    'Land Contour': {'Lvl' : 4, 'HLS' : 3, 'Bnk': 2, 'Low': 1},\n",
    "    'Lot Config': {'Inside' : 4, 'Corner' : 3, 'CulDSac': 2, 'FR2': 1, 'FR2':0},\n",
    "    'Lot Shape' : {'Reg' : 4, 'IR1' : 3, 'IR2': 2, 'IR3': 1},\n",
    "    'Utilities': {'Allpub': 4, 'NoSewr' : 3, 'NoSewa' : 2, 'ELO': 1},\n",
    "    'Bldg Type': {'1Fam' : 5, '2FmCon' : 4, 'Duplx': 3, 'TwnhsE': 2, 'TwnshI':1},\n",
    "    'House Style': {'1Story' : 4, 'IR1' : 3, 'IR2': 2, 'IR3': 1},\n",
    "    'Exter Qual': {'Ex': 5, 'Gd':4, 'TA':3, 'Fa':2, 'Po':1},\n",
    "    'Land Slope': {'GT1': 3, 'Mod': 2, 'Sev': 1},\n",
    "    'Mas Vnr Type' : {np.nan : 'none'},\n",
    "    'Mas Vnr Area': {np.nan : 0},\n",
    "    'Bsmt Qual': {'Ex': 6, 'Gd': 5, 'TA': 4, 'Fa': 3, 'Po': 2, np.nan: 'none'},\n",
    "    'Exter Cond':{'Ex': 5, 'Gd':4, 'TA':3, 'Fa':2, 'Po':1},\n",
    "    'Bsmt Cond':{'Ex': 6, 'Gd': 5, 'TA': 4, 'Fa': 3, 'Po': 2, np.nan: 'none'},\n",
    "    'Bsmt Exposure': {'Gd': 4, 'Av': 3, 'Mn': 2, 'No': 1, np.nan: 'none'},\n",
    "    'BsmftFin Type 1': {'GLQ': 6, 'ALQ': 5, 'BLQ': 4, 'Rec': 3, 'LwQ': 2, 'Unf':1, np.nan: 'none'},\n",
    "    'Exter Qual': {'Ex': 5, 'Gd': 4, 'TA': 3, 'Fa': 2, 'Po': 1, np.nan: 'none'},\n",
    "    'Exter Cond': {'Ex': 5, 'Gd': 4, 'TA': 3, 'Fa': 2, 'Po': 1, np.nan: 'none'},\n",
    "    'BsmtFin Type 1': {'GLQ': 6, 'ALQ': 5, 'BLQ': 4, 'Rec': 3, 'LwQ': 2, 'Unf':1, np.nan: 'none'},\n",
    "    'BsmtFin Type 2': {'GLQ': 6, 'ALQ': 5, 'BLQ': 4, 'Rec': 3, 'LwQ': 2, 'Unf':1, np.nan: 'none'},\n",
    "    'Electrical': {'SBrkr':5, 'FuseA':4, 'FuseF':3, 'FuseP':2, 'Mix':1},\n",
    "    'Kitchen Qual': {'Ex': 5, 'Gd': 4, 'TA': 3, 'Fa': 2, 'Po': 1},\n",
    "    'Functional': {'Typ': 8, 'Min1': 7, 'Min2': 6, 'Mod': 5, 'Maj1': 4, 'Maj2':3, 'Sev':2, 'Sal':1},\n",
    "    'Fireplace Qu':{'Ex': 5, 'Gd': 4, 'TA': 3, 'Fa': 2, 'Po': 1, np.nan: 'none'},\n",
    "    'Garage Type':{'2Types': 5, 'Attchd': 4, 'Basment': 3, 'BuiltIn': 2, 'CarPort': 1, 'Detchd':0, np.nan: 'none'},\n",
    "    'Garage Qual':{'Ex': 5, 'Gd': 4, 'TA': 3, 'Fa': 2, 'Po': 1, np.nan: 'none'},\n",
    "    'Garage Cond':{'Ex': 5, 'Gd': 4, 'TA': 3, 'Fa': 2, 'Po': 1, np.nan: 'none'},\n",
    "    'Garage Finish':{'Fin':3, 'RFn':2, 'Unf':1, np.nan: 'none'},\n",
    "    'Paved Drive': {'Y':3, 'P':2, 'N':1},\n",
    "    'Pool QC': {'Ex': 4, 'Gd': 3, 'TA': 2, 'Fa': 1, np.nan: 'No Pool'},\n",
    "    'Fence':{'GdPrv':4, 'MnPrv':3, 'GdWo':2, 'MnWw':1, np.nan: 'none'},\n",
    "    'BsmtFin SF 1':{np.nan : df_train['BsmtFin SF 1'].mean()},\n",
    "    'BsmtFin SF 2':{np.nan : df_train['BsmtFin SF 2'].mean()},\n",
    "    'Bsmt Unf SF':{np.nan : df_train['Bsmt Unf SF'].mean()},\n",
    "    'Total Bsmt SF':{np.nan : df_train['Total Bsmt SF'].mean()},\n",
    "    'Bsmt Full Bath':{np.nan : df_train['Bsmt Full Bath'].mean()},\n",
    "    'Bsmt Half Bath':{np.nan : df_train['Bsmt Half Bath'].mean()},\n",
    "    'Garage Yr Blt':{np.nan : {np.nan: df_train['Year Remod/Add']}},\n",
    "    'Garage Cars':{np.nan : df_train['Garage Cars'].mean()},\n",
    "    'Garage Area':{np.nan : df_train['Garage Area'].mean()},\n",
    "    'Misc Feature': {np.nan: 'none'}\n",
    "    \n",
    "    \n",
    "}\n",
    "df_train = df_train.replace(new_dict)"
   ]
  },
  {
   "cell_type": "code",
   "execution_count": 1294,
   "metadata": {},
   "outputs": [
    {
     "data": {
      "text/plain": [
       "Series([], dtype: int64)"
      ]
     },
     "execution_count": 1294,
     "metadata": {},
     "output_type": "execute_result"
    }
   ],
   "source": [
    "#check for total null values after imputing missing values \n",
    "df_train.isnull().sum()[df_train.isnull().sum()>0]"
   ]
  },
  {
   "cell_type": "code",
   "execution_count": 1295,
   "metadata": {},
   "outputs": [],
   "source": [
    "df_test = df_test.replace(new_dict)"
   ]
  },
  {
   "cell_type": "code",
   "execution_count": 1296,
   "metadata": {},
   "outputs": [
    {
     "data": {
      "text/plain": [
       "(878, 79)"
      ]
     },
     "execution_count": 1296,
     "metadata": {},
     "output_type": "execute_result"
    }
   ],
   "source": [
    "df_test.shape"
   ]
  },
  {
   "cell_type": "code",
   "execution_count": 1297,
   "metadata": {},
   "outputs": [
    {
     "data": {
      "image/png": "[encoded data removed]",
      "text/plain": [
       "<Figure size 1152x648 with 1 Axes>"
      ]
     },
     "metadata": {
      "needs_background": "light"
     },
     "output_type": "display_data"
    }
   ],
   "source": [
    "#Identify neighborhoods in Ames that have a larger amount of high priced homes (+400,00). We are able to see from\n",
    "# This scatter plot that 8 neighborhoods have all of the high priced homes. \n",
    "plt.figure(figsize =(16, 9))\n",
    "plt.ylabel('SalePrice')\n",
    "plt.xlabel('Neighborhood')\n",
    "plt.title('Neighborhood vs. Price')\n",
    "plt.scatter(x = df_train['Neighborhood'], \n",
    "            y = df_train['SalePrice'],\n",
    "            alpha= 0.4)\n",
    "plt.xticks(rotation=90);"
   ]
  },
  {
   "cell_type": "code",
   "execution_count": 1298,
   "metadata": {},
   "outputs": [],
   "source": [
    "#One Hot Encoding, create dummy columns for categorical variables. \n",
    "df_train = pd.get_dummies(df_train, columns = [ 'Lot Config', 'Neighborhood', \n",
    "                                               'Condition 1', 'Condition 2', 'Bldg Type', 'House Style',\n",
    "                                               'Roof Style', 'Roof Matl', 'Mas Vnr Type',\n",
    "                                               'Foundation', 'Heating', 'Central Air', 'Garage Type', 'Misc Feature',\n",
    "                                               'MS Zoning', 'Street', 'Exterior 1st', 'Exterior 2nd', 'Foundation',\n",
    "                                               'Bsmt Cond', 'Heating', 'Heating QC', 'Sale Type'\n",
    "                                              ], drop_first = True)"
   ]
  },
  {
   "cell_type": "code",
   "execution_count": 1299,
   "metadata": {},
   "outputs": [
    {
     "data": {
      "text/plain": [
       "(2051, 212)"
      ]
     },
     "execution_count": 1299,
     "metadata": {},
     "output_type": "execute_result"
    }
   ],
   "source": [
    "df_train.shape"
   ]
  },
  {
   "cell_type": "code",
   "execution_count": 1139,
   "metadata": {},
   "outputs": [
    {
     "data": {
      "text/html": [
       "<div>\n",
       "<style scoped>\n",
       "    .dataframe tbody tr th:only-of-type {\n",
       "        vertical-align: middle;\n",
       "    }\n",
       "\n",
       "    .dataframe tbody tr th {\n",
       "        vertical-align: top;\n",
       "    }\n",
       "\n",
       "    .dataframe thead th {\n",
       "        text-align: right;\n",
       "    }\n",
       "</style>\n",
       "<table border=\"1\" class=\"dataframe\">\n",
       "  <thead>\n",
       "    <tr style=\"text-align: right;\">\n",
       "      <th></th>\n",
       "      <th>PID</th>\n",
       "      <th>MS SubClass</th>\n",
       "      <th>MS Zoning</th>\n",
       "      <th>Lot Frontage</th>\n",
       "      <th>Lot Area</th>\n",
       "      <th>Street</th>\n",
       "      <th>Alley</th>\n",
       "      <th>Lot Shape</th>\n",
       "      <th>Land Contour</th>\n",
       "      <th>Utilities</th>\n",
       "      <th>...</th>\n",
       "      <th>Garage Type_2</th>\n",
       "      <th>Garage Type_3</th>\n",
       "      <th>Garage Type_4</th>\n",
       "      <th>Garage Type_5</th>\n",
       "      <th>Garage Type_none</th>\n",
       "      <th>Misc Feature_Gar2</th>\n",
       "      <th>Misc Feature_Othr</th>\n",
       "      <th>Misc Feature_Shed</th>\n",
       "      <th>Misc Feature_TenC</th>\n",
       "      <th>Misc Feature_none</th>\n",
       "    </tr>\n",
       "    <tr>\n",
       "      <th>Id</th>\n",
       "      <th></th>\n",
       "      <th></th>\n",
       "      <th></th>\n",
       "      <th></th>\n",
       "      <th></th>\n",
       "      <th></th>\n",
       "      <th></th>\n",
       "      <th></th>\n",
       "      <th></th>\n",
       "      <th></th>\n",
       "      <th></th>\n",
       "      <th></th>\n",
       "      <th></th>\n",
       "      <th></th>\n",
       "      <th></th>\n",
       "      <th></th>\n",
       "      <th></th>\n",
       "      <th></th>\n",
       "      <th></th>\n",
       "      <th></th>\n",
       "      <th></th>\n",
       "    </tr>\n",
       "  </thead>\n",
       "  <tbody>\n",
       "    <tr>\n",
       "      <th>109</th>\n",
       "      <td>533352170</td>\n",
       "      <td>60</td>\n",
       "      <td>RL</td>\n",
       "      <td>69.0552</td>\n",
       "      <td>13517</td>\n",
       "      <td>Pave</td>\n",
       "      <td>none</td>\n",
       "      <td>3</td>\n",
       "      <td>4</td>\n",
       "      <td>AllPub</td>\n",
       "      <td>...</td>\n",
       "      <td>0</td>\n",
       "      <td>0</td>\n",
       "      <td>1</td>\n",
       "      <td>0</td>\n",
       "      <td>0</td>\n",
       "      <td>0</td>\n",
       "      <td>0</td>\n",
       "      <td>0</td>\n",
       "      <td>0</td>\n",
       "      <td>1</td>\n",
       "    </tr>\n",
       "    <tr>\n",
       "      <th>544</th>\n",
       "      <td>531379050</td>\n",
       "      <td>60</td>\n",
       "      <td>RL</td>\n",
       "      <td>43.0000</td>\n",
       "      <td>11492</td>\n",
       "      <td>Pave</td>\n",
       "      <td>none</td>\n",
       "      <td>3</td>\n",
       "      <td>4</td>\n",
       "      <td>AllPub</td>\n",
       "      <td>...</td>\n",
       "      <td>0</td>\n",
       "      <td>0</td>\n",
       "      <td>1</td>\n",
       "      <td>0</td>\n",
       "      <td>0</td>\n",
       "      <td>0</td>\n",
       "      <td>0</td>\n",
       "      <td>0</td>\n",
       "      <td>0</td>\n",
       "      <td>1</td>\n",
       "    </tr>\n",
       "    <tr>\n",
       "      <th>153</th>\n",
       "      <td>535304180</td>\n",
       "      <td>20</td>\n",
       "      <td>RL</td>\n",
       "      <td>68.0000</td>\n",
       "      <td>7922</td>\n",
       "      <td>Pave</td>\n",
       "      <td>none</td>\n",
       "      <td>4</td>\n",
       "      <td>4</td>\n",
       "      <td>AllPub</td>\n",
       "      <td>...</td>\n",
       "      <td>0</td>\n",
       "      <td>0</td>\n",
       "      <td>0</td>\n",
       "      <td>0</td>\n",
       "      <td>0</td>\n",
       "      <td>0</td>\n",
       "      <td>0</td>\n",
       "      <td>0</td>\n",
       "      <td>0</td>\n",
       "      <td>1</td>\n",
       "    </tr>\n",
       "    <tr>\n",
       "      <th>318</th>\n",
       "      <td>916386060</td>\n",
       "      <td>60</td>\n",
       "      <td>RL</td>\n",
       "      <td>73.0000</td>\n",
       "      <td>9802</td>\n",
       "      <td>Pave</td>\n",
       "      <td>none</td>\n",
       "      <td>4</td>\n",
       "      <td>4</td>\n",
       "      <td>AllPub</td>\n",
       "      <td>...</td>\n",
       "      <td>1</td>\n",
       "      <td>0</td>\n",
       "      <td>0</td>\n",
       "      <td>0</td>\n",
       "      <td>0</td>\n",
       "      <td>0</td>\n",
       "      <td>0</td>\n",
       "      <td>0</td>\n",
       "      <td>0</td>\n",
       "      <td>1</td>\n",
       "    </tr>\n",
       "    <tr>\n",
       "      <th>255</th>\n",
       "      <td>906425045</td>\n",
       "      <td>50</td>\n",
       "      <td>RL</td>\n",
       "      <td>82.0000</td>\n",
       "      <td>14235</td>\n",
       "      <td>Pave</td>\n",
       "      <td>none</td>\n",
       "      <td>3</td>\n",
       "      <td>4</td>\n",
       "      <td>AllPub</td>\n",
       "      <td>...</td>\n",
       "      <td>0</td>\n",
       "      <td>0</td>\n",
       "      <td>0</td>\n",
       "      <td>0</td>\n",
       "      <td>0</td>\n",
       "      <td>0</td>\n",
       "      <td>0</td>\n",
       "      <td>0</td>\n",
       "      <td>0</td>\n",
       "      <td>1</td>\n",
       "    </tr>\n",
       "  </tbody>\n",
       "</table>\n",
       "<p>5 rows × 158 columns</p>\n",
       "</div>"
      ],
      "text/plain": [
       "           PID  MS SubClass MS Zoning  Lot Frontage  Lot Area Street Alley  \\\n",
       "Id                                                                           \n",
       "109  533352170           60        RL       69.0552     13517   Pave  none   \n",
       "544  531379050           60        RL       43.0000     11492   Pave  none   \n",
       "153  535304180           20        RL       68.0000      7922   Pave  none   \n",
       "318  916386060           60        RL       73.0000      9802   Pave  none   \n",
       "255  906425045           50        RL       82.0000     14235   Pave  none   \n",
       "\n",
       "     Lot Shape  Land Contour Utilities  ... Garage Type_2  Garage Type_3  \\\n",
       "Id                                      ...                                \n",
       "109          3             4    AllPub  ...             0              0   \n",
       "544          3             4    AllPub  ...             0              0   \n",
       "153          4             4    AllPub  ...             0              0   \n",
       "318          4             4    AllPub  ...             1              0   \n",
       "255          3             4    AllPub  ...             0              0   \n",
       "\n",
       "     Garage Type_4  Garage Type_5  Garage Type_none Misc Feature_Gar2  \\\n",
       "Id                                                                      \n",
       "109              1              0                 0                 0   \n",
       "544              1              0                 0                 0   \n",
       "153              0              0                 0                 0   \n",
       "318              0              0                 0                 0   \n",
       "255              0              0                 0                 0   \n",
       "\n",
       "    Misc Feature_Othr  Misc Feature_Shed  Misc Feature_TenC  Misc Feature_none  \n",
       "Id                                                                              \n",
       "109                 0                  0                  0                  1  \n",
       "544                 0                  0                  0                  1  \n",
       "153                 0                  0                  0                  1  \n",
       "318                 0                  0                  0                  1  \n",
       "255                 0                  0                  0                  1  \n",
       "\n",
       "[5 rows x 158 columns]"
      ]
     },
     "execution_count": 1139,
     "metadata": {},
     "output_type": "execute_result"
    }
   ],
   "source": [
    "df_train.head()"
   ]
  },
  {
   "cell_type": "code",
   "execution_count": 1300,
   "metadata": {},
   "outputs": [],
   "source": [
    "df_test = pd.get_dummies(df_test, columns = [ 'Lot Config', 'Neighborhood', \n",
    "                                               'Condition 1', 'Condition 2', 'Bldg Type', 'House Style',\n",
    "                                               'Roof Style', 'Roof Matl', 'Mas Vnr Type',\n",
    "                                               'Foundation', 'Heating', 'Central Air', 'Garage Type', 'Misc Feature',\n",
    "                                             'MS Zoning', 'Street', 'Exterior 1st', 'Exterior 2nd', 'Foundation',\n",
    "                                               'Bsmt Cond', 'Heating', 'Heating QC', 'Sale Type'\n",
    "                                            ], drop_first = True)"
   ]
  },
  {
   "cell_type": "code",
   "execution_count": 1301,
   "metadata": {},
   "outputs": [
    {
     "data": {
      "text/plain": [
       "(878, 197)"
      ]
     },
     "execution_count": 1301,
     "metadata": {},
     "output_type": "execute_result"
    }
   ],
   "source": [
    "df_test.shape"
   ]
  },
  {
   "cell_type": "code",
   "execution_count": 1140,
   "metadata": {},
   "outputs": [
    {
     "data": {
      "text/html": [
       "<div>\n",
       "<style scoped>\n",
       "    .dataframe tbody tr th:only-of-type {\n",
       "        vertical-align: middle;\n",
       "    }\n",
       "\n",
       "    .dataframe tbody tr th {\n",
       "        vertical-align: top;\n",
       "    }\n",
       "\n",
       "    .dataframe thead th {\n",
       "        text-align: right;\n",
       "    }\n",
       "</style>\n",
       "<table border=\"1\" class=\"dataframe\">\n",
       "  <thead>\n",
       "    <tr style=\"text-align: right;\">\n",
       "      <th></th>\n",
       "      <th>PID</th>\n",
       "      <th>MS SubClass</th>\n",
       "      <th>MS Zoning</th>\n",
       "      <th>Lot Frontage</th>\n",
       "      <th>Lot Area</th>\n",
       "      <th>Street</th>\n",
       "      <th>Alley</th>\n",
       "      <th>Lot Shape</th>\n",
       "      <th>Land Contour</th>\n",
       "      <th>Utilities</th>\n",
       "      <th>...</th>\n",
       "      <th>Garage Type_2</th>\n",
       "      <th>Garage Type_3</th>\n",
       "      <th>Garage Type_4</th>\n",
       "      <th>Garage Type_5</th>\n",
       "      <th>Garage Type_none</th>\n",
       "      <th>Misc Feature_Gar2</th>\n",
       "      <th>Misc Feature_Othr</th>\n",
       "      <th>Misc Feature_Shed</th>\n",
       "      <th>Misc Feature_TenC</th>\n",
       "      <th>Misc Feature_none</th>\n",
       "    </tr>\n",
       "    <tr>\n",
       "      <th>Id</th>\n",
       "      <th></th>\n",
       "      <th></th>\n",
       "      <th></th>\n",
       "      <th></th>\n",
       "      <th></th>\n",
       "      <th></th>\n",
       "      <th></th>\n",
       "      <th></th>\n",
       "      <th></th>\n",
       "      <th></th>\n",
       "      <th></th>\n",
       "      <th></th>\n",
       "      <th></th>\n",
       "      <th></th>\n",
       "      <th></th>\n",
       "      <th></th>\n",
       "      <th></th>\n",
       "      <th></th>\n",
       "      <th></th>\n",
       "      <th></th>\n",
       "      <th></th>\n",
       "    </tr>\n",
       "  </thead>\n",
       "  <tbody>\n",
       "    <tr>\n",
       "      <th>45</th>\n",
       "      <td>528150070</td>\n",
       "      <td>20</td>\n",
       "      <td>RL</td>\n",
       "      <td>100.0</td>\n",
       "      <td>12919</td>\n",
       "      <td>Pave</td>\n",
       "      <td>none</td>\n",
       "      <td>3</td>\n",
       "      <td>4</td>\n",
       "      <td>AllPub</td>\n",
       "      <td>...</td>\n",
       "      <td>0</td>\n",
       "      <td>0</td>\n",
       "      <td>1</td>\n",
       "      <td>0</td>\n",
       "      <td>0</td>\n",
       "      <td>0</td>\n",
       "      <td>0</td>\n",
       "      <td>0</td>\n",
       "      <td>0</td>\n",
       "      <td>1</td>\n",
       "    </tr>\n",
       "    <tr>\n",
       "      <th>1638</th>\n",
       "      <td>527216080</td>\n",
       "      <td>20</td>\n",
       "      <td>RL</td>\n",
       "      <td>52.0</td>\n",
       "      <td>51974</td>\n",
       "      <td>Pave</td>\n",
       "      <td>none</td>\n",
       "      <td>3</td>\n",
       "      <td>4</td>\n",
       "      <td>AllPub</td>\n",
       "      <td>...</td>\n",
       "      <td>0</td>\n",
       "      <td>0</td>\n",
       "      <td>1</td>\n",
       "      <td>0</td>\n",
       "      <td>0</td>\n",
       "      <td>0</td>\n",
       "      <td>0</td>\n",
       "      <td>0</td>\n",
       "      <td>0</td>\n",
       "      <td>1</td>\n",
       "    </tr>\n",
       "    <tr>\n",
       "      <th>2451</th>\n",
       "      <td>528360050</td>\n",
       "      <td>60</td>\n",
       "      <td>RL</td>\n",
       "      <td>114.0</td>\n",
       "      <td>17242</td>\n",
       "      <td>Pave</td>\n",
       "      <td>none</td>\n",
       "      <td>3</td>\n",
       "      <td>4</td>\n",
       "      <td>AllPub</td>\n",
       "      <td>...</td>\n",
       "      <td>0</td>\n",
       "      <td>0</td>\n",
       "      <td>1</td>\n",
       "      <td>0</td>\n",
       "      <td>0</td>\n",
       "      <td>0</td>\n",
       "      <td>0</td>\n",
       "      <td>0</td>\n",
       "      <td>0</td>\n",
       "      <td>1</td>\n",
       "    </tr>\n",
       "    <tr>\n",
       "      <th>434</th>\n",
       "      <td>528110090</td>\n",
       "      <td>60</td>\n",
       "      <td>RL</td>\n",
       "      <td>107.0</td>\n",
       "      <td>13891</td>\n",
       "      <td>Pave</td>\n",
       "      <td>none</td>\n",
       "      <td>4</td>\n",
       "      <td>4</td>\n",
       "      <td>AllPub</td>\n",
       "      <td>...</td>\n",
       "      <td>1</td>\n",
       "      <td>0</td>\n",
       "      <td>0</td>\n",
       "      <td>0</td>\n",
       "      <td>0</td>\n",
       "      <td>0</td>\n",
       "      <td>0</td>\n",
       "      <td>0</td>\n",
       "      <td>0</td>\n",
       "      <td>1</td>\n",
       "    </tr>\n",
       "    <tr>\n",
       "      <th>2333</th>\n",
       "      <td>527212030</td>\n",
       "      <td>60</td>\n",
       "      <td>RL</td>\n",
       "      <td>85.0</td>\n",
       "      <td>16056</td>\n",
       "      <td>Pave</td>\n",
       "      <td>none</td>\n",
       "      <td>3</td>\n",
       "      <td>4</td>\n",
       "      <td>AllPub</td>\n",
       "      <td>...</td>\n",
       "      <td>1</td>\n",
       "      <td>0</td>\n",
       "      <td>0</td>\n",
       "      <td>0</td>\n",
       "      <td>0</td>\n",
       "      <td>0</td>\n",
       "      <td>0</td>\n",
       "      <td>0</td>\n",
       "      <td>0</td>\n",
       "      <td>1</td>\n",
       "    </tr>\n",
       "    <tr>\n",
       "      <th>424</th>\n",
       "      <td>528106020</td>\n",
       "      <td>20</td>\n",
       "      <td>RL</td>\n",
       "      <td>105.0</td>\n",
       "      <td>15431</td>\n",
       "      <td>Pave</td>\n",
       "      <td>none</td>\n",
       "      <td>4</td>\n",
       "      <td>4</td>\n",
       "      <td>AllPub</td>\n",
       "      <td>...</td>\n",
       "      <td>0</td>\n",
       "      <td>0</td>\n",
       "      <td>1</td>\n",
       "      <td>0</td>\n",
       "      <td>0</td>\n",
       "      <td>0</td>\n",
       "      <td>0</td>\n",
       "      <td>0</td>\n",
       "      <td>0</td>\n",
       "      <td>1</td>\n",
       "    </tr>\n",
       "    <tr>\n",
       "      <th>457</th>\n",
       "      <td>528176030</td>\n",
       "      <td>20</td>\n",
       "      <td>RL</td>\n",
       "      <td>100.0</td>\n",
       "      <td>14836</td>\n",
       "      <td>Pave</td>\n",
       "      <td>none</td>\n",
       "      <td>3</td>\n",
       "      <td>3</td>\n",
       "      <td>AllPub</td>\n",
       "      <td>...</td>\n",
       "      <td>0</td>\n",
       "      <td>0</td>\n",
       "      <td>1</td>\n",
       "      <td>0</td>\n",
       "      <td>0</td>\n",
       "      <td>0</td>\n",
       "      <td>0</td>\n",
       "      <td>0</td>\n",
       "      <td>0</td>\n",
       "      <td>1</td>\n",
       "    </tr>\n",
       "    <tr>\n",
       "      <th>2331</th>\n",
       "      <td>527210040</td>\n",
       "      <td>60</td>\n",
       "      <td>RL</td>\n",
       "      <td>60.0</td>\n",
       "      <td>18062</td>\n",
       "      <td>Pave</td>\n",
       "      <td>none</td>\n",
       "      <td>3</td>\n",
       "      <td>3</td>\n",
       "      <td>AllPub</td>\n",
       "      <td>...</td>\n",
       "      <td>1</td>\n",
       "      <td>0</td>\n",
       "      <td>0</td>\n",
       "      <td>0</td>\n",
       "      <td>0</td>\n",
       "      <td>0</td>\n",
       "      <td>0</td>\n",
       "      <td>0</td>\n",
       "      <td>0</td>\n",
       "      <td>1</td>\n",
       "    </tr>\n",
       "    <tr>\n",
       "      <th>16</th>\n",
       "      <td>527216070</td>\n",
       "      <td>60</td>\n",
       "      <td>RL</td>\n",
       "      <td>47.0</td>\n",
       "      <td>53504</td>\n",
       "      <td>Pave</td>\n",
       "      <td>none</td>\n",
       "      <td>2</td>\n",
       "      <td>3</td>\n",
       "      <td>AllPub</td>\n",
       "      <td>...</td>\n",
       "      <td>1</td>\n",
       "      <td>0</td>\n",
       "      <td>0</td>\n",
       "      <td>0</td>\n",
       "      <td>0</td>\n",
       "      <td>0</td>\n",
       "      <td>0</td>\n",
       "      <td>0</td>\n",
       "      <td>0</td>\n",
       "      <td>1</td>\n",
       "    </tr>\n",
       "    <tr>\n",
       "      <th>2335</th>\n",
       "      <td>527214060</td>\n",
       "      <td>60</td>\n",
       "      <td>RL</td>\n",
       "      <td>82.0</td>\n",
       "      <td>16052</td>\n",
       "      <td>Pave</td>\n",
       "      <td>none</td>\n",
       "      <td>3</td>\n",
       "      <td>4</td>\n",
       "      <td>AllPub</td>\n",
       "      <td>...</td>\n",
       "      <td>0</td>\n",
       "      <td>0</td>\n",
       "      <td>1</td>\n",
       "      <td>0</td>\n",
       "      <td>0</td>\n",
       "      <td>0</td>\n",
       "      <td>0</td>\n",
       "      <td>0</td>\n",
       "      <td>0</td>\n",
       "      <td>1</td>\n",
       "    </tr>\n",
       "  </tbody>\n",
       "</table>\n",
       "<p>10 rows × 158 columns</p>\n",
       "</div>"
      ],
      "text/plain": [
       "            PID  MS SubClass MS Zoning  Lot Frontage  Lot Area Street Alley  \\\n",
       "Id                                                                            \n",
       "45    528150070           20        RL         100.0     12919   Pave  none   \n",
       "1638  527216080           20        RL          52.0     51974   Pave  none   \n",
       "2451  528360050           60        RL         114.0     17242   Pave  none   \n",
       "434   528110090           60        RL         107.0     13891   Pave  none   \n",
       "2333  527212030           60        RL          85.0     16056   Pave  none   \n",
       "424   528106020           20        RL         105.0     15431   Pave  none   \n",
       "457   528176030           20        RL         100.0     14836   Pave  none   \n",
       "2331  527210040           60        RL          60.0     18062   Pave  none   \n",
       "16    527216070           60        RL          47.0     53504   Pave  none   \n",
       "2335  527214060           60        RL          82.0     16052   Pave  none   \n",
       "\n",
       "      Lot Shape  Land Contour Utilities  ... Garage Type_2  Garage Type_3  \\\n",
       "Id                                       ...                                \n",
       "45            3             4    AllPub  ...             0              0   \n",
       "1638          3             4    AllPub  ...             0              0   \n",
       "2451          3             4    AllPub  ...             0              0   \n",
       "434           4             4    AllPub  ...             1              0   \n",
       "2333          3             4    AllPub  ...             1              0   \n",
       "424           4             4    AllPub  ...             0              0   \n",
       "457           3             3    AllPub  ...             0              0   \n",
       "2331          3             3    AllPub  ...             1              0   \n",
       "16            2             3    AllPub  ...             1              0   \n",
       "2335          3             4    AllPub  ...             0              0   \n",
       "\n",
       "      Garage Type_4  Garage Type_5  Garage Type_none Misc Feature_Gar2  \\\n",
       "Id                                                                       \n",
       "45                1              0                 0                 0   \n",
       "1638              1              0                 0                 0   \n",
       "2451              1              0                 0                 0   \n",
       "434               0              0                 0                 0   \n",
       "2333              0              0                 0                 0   \n",
       "424               1              0                 0                 0   \n",
       "457               1              0                 0                 0   \n",
       "2331              0              0                 0                 0   \n",
       "16                0              0                 0                 0   \n",
       "2335              1              0                 0                 0   \n",
       "\n",
       "     Misc Feature_Othr  Misc Feature_Shed  Misc Feature_TenC  \\\n",
       "Id                                                             \n",
       "45                   0                  0                  0   \n",
       "1638                 0                  0                  0   \n",
       "2451                 0                  0                  0   \n",
       "434                  0                  0                  0   \n",
       "2333                 0                  0                  0   \n",
       "424                  0                  0                  0   \n",
       "457                  0                  0                  0   \n",
       "2331                 0                  0                  0   \n",
       "16                   0                  0                  0   \n",
       "2335                 0                  0                  0   \n",
       "\n",
       "      Misc Feature_none  \n",
       "Id                       \n",
       "45                    1  \n",
       "1638                  1  \n",
       "2451                  1  \n",
       "434                   1  \n",
       "2333                  1  \n",
       "424                   1  \n",
       "457                   1  \n",
       "2331                  1  \n",
       "16                    1  \n",
       "2335                  1  \n",
       "\n",
       "[10 rows x 158 columns]"
      ]
     },
     "execution_count": 1140,
     "metadata": {},
     "output_type": "execute_result"
    }
   ],
   "source": [
    "#df_train.head()\n",
    "df_train.sort_values('SalePrice', ascending = False).head(10)"
   ]
  },
  {
   "cell_type": "code",
   "execution_count": 1141,
   "metadata": {},
   "outputs": [],
   "source": [
    "#Create a variable which includes the top ten correlated variables to our y-value of Sale Price. \n",
    "top_features = np.abs(df_train.corr()[['SalePrice']]).sort_values('SalePrice', ascending=False)"
   ]
  },
  {
   "cell_type": "code",
   "execution_count": 1142,
   "metadata": {},
   "outputs": [
    {
     "data": {
      "text/plain": [
       "Text(0.5, 1.0, 'Top 10 Correlated Features to Sale Price')"
      ]
     },
     "execution_count": 1142,
     "metadata": {},
     "output_type": "execute_result"
    },
    {
     "data": {
      "image/png": "[encoded data removed]",
      "text/plain": [
       "<Figure size 432x288 with 2 Axes>"
      ]
     },
     "metadata": {
      "needs_background": "light"
     },
     "output_type": "display_data"
    }
   ],
   "source": [
    "sns.heatmap(top_features.head(10), cmap = 'Greens');\n",
    "plt.title('Top 10 Correlated Features to Sale Price')"
   ]
  },
  {
   "cell_type": "code",
   "execution_count": 1417,
   "metadata": {},
   "outputs": [
    {
     "data": {
      "text/plain": [
       "count      2051.000000\n",
       "mean     181469.701609\n",
       "std       79258.659352\n",
       "min       12789.000000\n",
       "25%      129825.000000\n",
       "50%      162500.000000\n",
       "75%      214000.000000\n",
       "max      611657.000000\n",
       "Name: SalePrice, dtype: float64"
      ]
     },
     "execution_count": 1417,
     "metadata": {},
     "output_type": "execute_result"
    }
   ],
   "source": [
    "#use .describe to get summary statistics on our target variable sales price\n",
    "df_train['SalePrice'].describe()"
   ]
  },
  {
   "cell_type": "code",
   "execution_count": 1143,
   "metadata": {},
   "outputs": [
    {
     "data": {
      "text/plain": [
       "Text(0.5, 1.0, 'Sale Price Distribution in Ames')"
      ]
     },
     "execution_count": 1143,
     "metadata": {},
     "output_type": "execute_result"
    },
    {
     "data": {
      "image/png": "[encoded data removed]",
      "text/plain": [
       "<Figure size 432x288 with 1 Axes>"
      ]
     },
     "metadata": {
      "needs_background": "light"
     },
     "output_type": "display_data"
    }
   ],
   "source": [
    "df_train['SalePrice'].hist();\n",
    "plt.xlabel('Price')\n",
    "plt.ylabel('Homes Sold')\n",
    "plt.title('Sale Price Distribution in Ames')"
   ]
  },
  {
   "cell_type": "markdown",
   "metadata": {},
   "source": [
    "We observe the highest number of homes being purchased between $100,000 - $200,00 range. We observe outliers in the price range above $400,000. "
   ]
  },
  {
   "cell_type": "code",
   "execution_count": 1144,
   "metadata": {},
   "outputs": [
    {
     "data": {
      "image/png": "[encoded data removed]",
      "text/plain": [
       "<Figure size 432x288 with 1 Axes>"
      ]
     },
     "metadata": {
      "needs_background": "light"
     },
     "output_type": "display_data"
    }
   ],
   "source": [
    "#Because the Sale Prices are skewed and the presence of outliers, we have used np.log to create a more normal\n",
    "#distribution. \n",
    "adjusted_SP = np.log(df_train.SalePrice)\n",
    "plt.hist(adjusted_SP)\n",
    "\n",
    "plt.show()"
   ]
  },
  {
   "cell_type": "code",
   "execution_count": 1145,
   "metadata": {},
   "outputs": [
    {
     "data": {
      "text/plain": [
       "Text(0.5, 1.0, 'Sale Price Distribution in Ames')"
      ]
     },
     "execution_count": 1145,
     "metadata": {},
     "output_type": "execute_result"
    },
    {
     "data": {
      "image/png": "[encoded data removed]",
      "text/plain": [
       "<Figure size 432x288 with 1 Axes>"
      ]
     },
     "metadata": {
      "needs_background": "light"
     },
     "output_type": "display_data"
    }
   ],
   "source": [
    "df_train['Overall Qual'].hist();\n",
    "plt.xlabel('Overall Qual')\n",
    "plt.ylabel('')\n",
    "plt.title('Sale Price Distribution in Ames')"
   ]
  },
  {
   "cell_type": "code",
   "execution_count": 1146,
   "metadata": {},
   "outputs": [],
   "source": [
    "#Create pivot to be used in bar chart\n",
    "pvt = df_train.pivot_table(index = 'Overall Qual',\n",
    "                          values = 'SalePrice', aggfunc = np.mean)"
   ]
  },
  {
   "cell_type": "code",
   "execution_count": 1147,
   "metadata": {},
   "outputs": [
    {
     "data": {
      "image/png": "[encoded data removed]",
      "text/plain": [
       "<Figure size 432x288 with 1 Axes>"
      ]
     },
     "metadata": {
      "needs_background": "light"
     },
     "output_type": "display_data"
    }
   ],
   "source": [
    "#Create bar chart to show relationship between mean sale price and Overall Quality of homes\n",
    "pvt.plot(kind = 'bar', color = 'blue')\n",
    "plt.xlabel('Overall Qual')\n",
    "plt.ylabel('Mean Sale Price')\n",
    "plt.xticks(rotation = 0)\n",
    "plt.show();\n"
   ]
  },
  {
   "cell_type": "code",
   "execution_count": 1414,
   "metadata": {},
   "outputs": [
    {
     "data": {
      "image/png": "[encoded data removed]",
      "text/plain": [
       "<Figure size 576x432 with 1 Axes>"
      ]
     },
     "metadata": {
      "needs_background": "light"
     },
     "output_type": "display_data"
    }
   ],
   "source": [
    "#Create box plot to evaluate correlation between sale price and Exter Qual\n",
    "var = 'Exter Qual'\n",
    "data = pd.concat([df_train['SalePrice'], df_train[var]], axis=1)\n",
    "f, ax = plt.subplots(figsize=(8, 6))\n",
    "fig = sns.boxplot(x=var, y=\"SalePrice\", data=data)\n",
    "fig.axis(ymin=0, ymax=800000);"
   ]
  },
  {
   "cell_type": "code",
   "execution_count": 1394,
   "metadata": {},
   "outputs": [
    {
     "data": {
      "image/png": "[encoded data removed]",
      "text/plain": [
       "<Figure size 432x288 with 1 Axes>"
      ]
     },
     "metadata": {
      "needs_background": "light"
     },
     "output_type": "display_data"
    }
   ],
   "source": [
    "#Create scatter plot to evaluate correlation between sale price and Gr Liv Area\n",
    "plt.title('Garage Living Area vs. Sale Price')\n",
    "plt.ylabel('SalePrice')\n",
    "plt.xlabel('Gr Liv Area')\n",
    "plt.scatter(x = df_train['Gr Liv Area'], \n",
    "            y = df_train['SalePrice'],\n",
    "            alpha= 0.4);"
   ]
  },
  {
   "cell_type": "code",
   "execution_count": 1150,
   "metadata": {},
   "outputs": [],
   "source": [
    "#remove outliers from data in attempt to increase model performance\n",
    "df_train = df_train[df_train['Gr Liv Area'] < 4000]"
   ]
  },
  {
   "cell_type": "markdown",
   "metadata": {},
   "source": [
    "Since we will be using RSME as our metric of choice to evalute are models it is important to eliminate outliers when we can. We have to be mindful of outliers in our data as they can heavily effect our metric. "
   ]
  },
  {
   "cell_type": "code",
   "execution_count": 1151,
   "metadata": {},
   "outputs": [
    {
     "data": {
      "image/png": "[encoded data removed]",
      "text/plain": [
       "<Figure size 432x288 with 1 Axes>"
      ]
     },
     "metadata": {
      "needs_background": "light"
     },
     "output_type": "display_data"
    }
   ],
   "source": [
    "plt.title('Gr Liv Area vs. Sale Price')\n",
    "plt.ylabel('SalePrice')\n",
    "plt.xlabel('Gr Liv Area')\n",
    "plt.scatter(x = df_train['Gr Liv Area'], \n",
    "            y = df_train['SalePrice'],\n",
    "            alpha= 0.4);"
   ]
  },
  {
   "cell_type": "code",
   "execution_count": 1152,
   "metadata": {},
   "outputs": [
    {
     "data": {
      "image/png": "[encoded data removed]",
      "text/plain": [
       "<Figure size 432x288 with 1 Axes>"
      ]
     },
     "metadata": {
      "needs_background": "light"
     },
     "output_type": "display_data"
    }
   ],
   "source": [
    "#0 values for Bsmt SF most likely represent homes that do not have a basement. Outliers with large sq footage near\n",
    "#the mean Sale Price of a home in Ames. \n",
    "plt.title('Total Bsmt SF vs. Sale Price')\n",
    "plt.ylabel('SalePrice')\n",
    "plt.xlabel('Total Bsmt SF')\n",
    "plt.scatter(x = df_train['Total Bsmt SF'], \n",
    "            y = df_train['SalePrice'],\n",
    "            alpha= 0.4);"
   ]
  },
  {
   "cell_type": "code",
   "execution_count": 1153,
   "metadata": {},
   "outputs": [],
   "source": [
    "#Remove outliers in attempt to increase model performance \n",
    "df_train = df_train[df_train['Total Bsmt SF'] < 4000]"
   ]
  },
  {
   "cell_type": "code",
   "execution_count": 1154,
   "metadata": {},
   "outputs": [
    {
     "data": {
      "image/png": "[encoded data removed]",
      "text/plain": [
       "<Figure size 432x288 with 1 Axes>"
      ]
     },
     "metadata": {
      "needs_background": "light"
     },
     "output_type": "display_data"
    }
   ],
   "source": [
    "# We observe an outlier in the category of Kitchen Quality of 4.0. A home in the highest sale price range (600,000)\n",
    "#has a ktichen quality of 4.0. \n",
    "plt.title('Kitchen Quality vs. Sale Price')\n",
    "plt.ylabel('SalePrice')\n",
    "plt.xlabel('Kitchen Quality')\n",
    "plt.scatter(x = df_train['Kitchen Qual'], \n",
    "            y = df_train['SalePrice'],\n",
    "            alpha= 0.4);"
   ]
  },
  {
   "cell_type": "markdown",
   "metadata": {},
   "source": [
    "FEATURE ENGINEERING"
   ]
  },
  {
   "cell_type": "code",
   "execution_count": 1302,
   "metadata": {},
   "outputs": [],
   "source": [
    "#Feature Engineering adding up total square footage of a home \n",
    "df_train['Total Sq Ft'] = df_train['1st Flr SF'] + df_train['2nd Flr SF'] + df_train['BsmtFin SF 1'] + df_train['BsmtFin SF 2']"
   ]
  },
  {
   "cell_type": "code",
   "execution_count": 1303,
   "metadata": {},
   "outputs": [],
   "source": [
    "df_test['Total Sq Ft'] = df_test['1st Flr SF'] + df_test['2nd Flr SF'] + df_test['BsmtFin SF 1'] + df_test['BsmtFin SF 2']"
   ]
  },
  {
   "cell_type": "code",
   "execution_count": 1304,
   "metadata": {},
   "outputs": [],
   "source": [
    "#Adding number of full baths and half baths together to get total bathroom count \n",
    "df_train['Total Baths'] = df_train['Full Bath'] + (df_train['Half Bath'] * .5)"
   ]
  },
  {
   "cell_type": "code",
   "execution_count": 1305,
   "metadata": {},
   "outputs": [],
   "source": [
    "df_test['Total Baths'] = df_test['Full Bath'] + (df_test['Half Bath'] * .5)"
   ]
  },
  {
   "cell_type": "code",
   "execution_count": 1306,
   "metadata": {},
   "outputs": [],
   "source": [
    "df_train['Bsmt Total Area'] = df_train['Gr Liv Area'] + df_train['Total Bsmt SF']"
   ]
  },
  {
   "cell_type": "code",
   "execution_count": 1307,
   "metadata": {},
   "outputs": [],
   "source": [
    "df_test['Bsmt Total Area'] = df_test['Gr Liv Area'] + df_test['Total Bsmt SF']"
   ]
  },
  {
   "cell_type": "code",
   "execution_count": 1308,
   "metadata": {},
   "outputs": [],
   "source": [
    "#Create list of columns that were used during feature selection, These columns will be dropped in order to avoid\n",
    "#multi-colinear features \n",
    "columns = ['1st Flr SF', '2nd Flr SF', 'BsmtFin SF 1', 'BsmtFin SF 2', 'Full Bath', 'Half Bath', 'Bsmt Total Area',\n",
    "          'Gr Liv Area', 'Total Bsmt SF']"
   ]
  },
  {
   "cell_type": "code",
   "execution_count": 1309,
   "metadata": {},
   "outputs": [
    {
     "data": {
      "text/html": [
       "<div>\n",
       "<style scoped>\n",
       "    .dataframe tbody tr th:only-of-type {\n",
       "        vertical-align: middle;\n",
       "    }\n",
       "\n",
       "    .dataframe tbody tr th {\n",
       "        vertical-align: top;\n",
       "    }\n",
       "\n",
       "    .dataframe thead th {\n",
       "        text-align: right;\n",
       "    }\n",
       "</style>\n",
       "<table border=\"1\" class=\"dataframe\">\n",
       "  <thead>\n",
       "    <tr style=\"text-align: right;\">\n",
       "      <th></th>\n",
       "      <th>PID</th>\n",
       "      <th>MS SubClass</th>\n",
       "      <th>Lot Frontage</th>\n",
       "      <th>Lot Area</th>\n",
       "      <th>Alley</th>\n",
       "      <th>Lot Shape</th>\n",
       "      <th>Land Contour</th>\n",
       "      <th>Utilities</th>\n",
       "      <th>Land Slope</th>\n",
       "      <th>Overall Qual</th>\n",
       "      <th>...</th>\n",
       "      <th>Sale Type_CWD</th>\n",
       "      <th>Sale Type_Con</th>\n",
       "      <th>Sale Type_ConLD</th>\n",
       "      <th>Sale Type_ConLI</th>\n",
       "      <th>Sale Type_ConLw</th>\n",
       "      <th>Sale Type_New</th>\n",
       "      <th>Sale Type_Oth</th>\n",
       "      <th>Sale Type_WD</th>\n",
       "      <th>Total Sq Ft</th>\n",
       "      <th>Total Baths</th>\n",
       "    </tr>\n",
       "    <tr>\n",
       "      <th>Id</th>\n",
       "      <th></th>\n",
       "      <th></th>\n",
       "      <th></th>\n",
       "      <th></th>\n",
       "      <th></th>\n",
       "      <th></th>\n",
       "      <th></th>\n",
       "      <th></th>\n",
       "      <th></th>\n",
       "      <th></th>\n",
       "      <th></th>\n",
       "      <th></th>\n",
       "      <th></th>\n",
       "      <th></th>\n",
       "      <th></th>\n",
       "      <th></th>\n",
       "      <th></th>\n",
       "      <th></th>\n",
       "      <th></th>\n",
       "      <th></th>\n",
       "      <th></th>\n",
       "    </tr>\n",
       "  </thead>\n",
       "  <tbody>\n",
       "    <tr>\n",
       "      <th>109</th>\n",
       "      <td>533352170</td>\n",
       "      <td>60</td>\n",
       "      <td>69.0552</td>\n",
       "      <td>13517</td>\n",
       "      <td>none</td>\n",
       "      <td>3</td>\n",
       "      <td>4</td>\n",
       "      <td>AllPub</td>\n",
       "      <td>Gtl</td>\n",
       "      <td>6</td>\n",
       "      <td>...</td>\n",
       "      <td>0</td>\n",
       "      <td>0</td>\n",
       "      <td>0</td>\n",
       "      <td>0</td>\n",
       "      <td>0</td>\n",
       "      <td>0</td>\n",
       "      <td>0</td>\n",
       "      <td>1</td>\n",
       "      <td>2012.0</td>\n",
       "      <td>2.5</td>\n",
       "    </tr>\n",
       "    <tr>\n",
       "      <th>544</th>\n",
       "      <td>531379050</td>\n",
       "      <td>60</td>\n",
       "      <td>43.0000</td>\n",
       "      <td>11492</td>\n",
       "      <td>none</td>\n",
       "      <td>3</td>\n",
       "      <td>4</td>\n",
       "      <td>AllPub</td>\n",
       "      <td>Gtl</td>\n",
       "      <td>7</td>\n",
       "      <td>...</td>\n",
       "      <td>0</td>\n",
       "      <td>0</td>\n",
       "      <td>0</td>\n",
       "      <td>0</td>\n",
       "      <td>0</td>\n",
       "      <td>0</td>\n",
       "      <td>0</td>\n",
       "      <td>1</td>\n",
       "      <td>2759.0</td>\n",
       "      <td>2.5</td>\n",
       "    </tr>\n",
       "    <tr>\n",
       "      <th>153</th>\n",
       "      <td>535304180</td>\n",
       "      <td>20</td>\n",
       "      <td>68.0000</td>\n",
       "      <td>7922</td>\n",
       "      <td>none</td>\n",
       "      <td>4</td>\n",
       "      <td>4</td>\n",
       "      <td>AllPub</td>\n",
       "      <td>Gtl</td>\n",
       "      <td>5</td>\n",
       "      <td>...</td>\n",
       "      <td>0</td>\n",
       "      <td>0</td>\n",
       "      <td>0</td>\n",
       "      <td>0</td>\n",
       "      <td>0</td>\n",
       "      <td>0</td>\n",
       "      <td>0</td>\n",
       "      <td>1</td>\n",
       "      <td>1788.0</td>\n",
       "      <td>1.0</td>\n",
       "    </tr>\n",
       "    <tr>\n",
       "      <th>318</th>\n",
       "      <td>916386060</td>\n",
       "      <td>60</td>\n",
       "      <td>73.0000</td>\n",
       "      <td>9802</td>\n",
       "      <td>none</td>\n",
       "      <td>4</td>\n",
       "      <td>4</td>\n",
       "      <td>AllPub</td>\n",
       "      <td>Gtl</td>\n",
       "      <td>5</td>\n",
       "      <td>...</td>\n",
       "      <td>0</td>\n",
       "      <td>0</td>\n",
       "      <td>0</td>\n",
       "      <td>0</td>\n",
       "      <td>0</td>\n",
       "      <td>0</td>\n",
       "      <td>0</td>\n",
       "      <td>1</td>\n",
       "      <td>1444.0</td>\n",
       "      <td>2.5</td>\n",
       "    </tr>\n",
       "    <tr>\n",
       "      <th>255</th>\n",
       "      <td>906425045</td>\n",
       "      <td>50</td>\n",
       "      <td>82.0000</td>\n",
       "      <td>14235</td>\n",
       "      <td>none</td>\n",
       "      <td>3</td>\n",
       "      <td>4</td>\n",
       "      <td>AllPub</td>\n",
       "      <td>Gtl</td>\n",
       "      <td>6</td>\n",
       "      <td>...</td>\n",
       "      <td>0</td>\n",
       "      <td>0</td>\n",
       "      <td>0</td>\n",
       "      <td>0</td>\n",
       "      <td>0</td>\n",
       "      <td>0</td>\n",
       "      <td>0</td>\n",
       "      <td>1</td>\n",
       "      <td>1445.0</td>\n",
       "      <td>2.0</td>\n",
       "    </tr>\n",
       "    <tr>\n",
       "      <th>...</th>\n",
       "      <td>...</td>\n",
       "      <td>...</td>\n",
       "      <td>...</td>\n",
       "      <td>...</td>\n",
       "      <td>...</td>\n",
       "      <td>...</td>\n",
       "      <td>...</td>\n",
       "      <td>...</td>\n",
       "      <td>...</td>\n",
       "      <td>...</td>\n",
       "      <td>...</td>\n",
       "      <td>...</td>\n",
       "      <td>...</td>\n",
       "      <td>...</td>\n",
       "      <td>...</td>\n",
       "      <td>...</td>\n",
       "      <td>...</td>\n",
       "      <td>...</td>\n",
       "      <td>...</td>\n",
       "      <td>...</td>\n",
       "      <td>...</td>\n",
       "    </tr>\n",
       "    <tr>\n",
       "      <th>1587</th>\n",
       "      <td>921126030</td>\n",
       "      <td>20</td>\n",
       "      <td>79.0000</td>\n",
       "      <td>11449</td>\n",
       "      <td>none</td>\n",
       "      <td>3</td>\n",
       "      <td>3</td>\n",
       "      <td>AllPub</td>\n",
       "      <td>Gtl</td>\n",
       "      <td>8</td>\n",
       "      <td>...</td>\n",
       "      <td>0</td>\n",
       "      <td>0</td>\n",
       "      <td>0</td>\n",
       "      <td>0</td>\n",
       "      <td>0</td>\n",
       "      <td>0</td>\n",
       "      <td>0</td>\n",
       "      <td>1</td>\n",
       "      <td>2739.0</td>\n",
       "      <td>2.0</td>\n",
       "    </tr>\n",
       "    <tr>\n",
       "      <th>785</th>\n",
       "      <td>905377130</td>\n",
       "      <td>30</td>\n",
       "      <td>69.0552</td>\n",
       "      <td>12342</td>\n",
       "      <td>none</td>\n",
       "      <td>3</td>\n",
       "      <td>4</td>\n",
       "      <td>AllPub</td>\n",
       "      <td>Gtl</td>\n",
       "      <td>4</td>\n",
       "      <td>...</td>\n",
       "      <td>0</td>\n",
       "      <td>0</td>\n",
       "      <td>0</td>\n",
       "      <td>0</td>\n",
       "      <td>0</td>\n",
       "      <td>0</td>\n",
       "      <td>0</td>\n",
       "      <td>1</td>\n",
       "      <td>1123.0</td>\n",
       "      <td>1.0</td>\n",
       "    </tr>\n",
       "    <tr>\n",
       "      <th>916</th>\n",
       "      <td>909253010</td>\n",
       "      <td>50</td>\n",
       "      <td>57.0000</td>\n",
       "      <td>7558</td>\n",
       "      <td>none</td>\n",
       "      <td>4</td>\n",
       "      <td>2</td>\n",
       "      <td>AllPub</td>\n",
       "      <td>Gtl</td>\n",
       "      <td>6</td>\n",
       "      <td>...</td>\n",
       "      <td>0</td>\n",
       "      <td>0</td>\n",
       "      <td>0</td>\n",
       "      <td>0</td>\n",
       "      <td>0</td>\n",
       "      <td>0</td>\n",
       "      <td>0</td>\n",
       "      <td>1</td>\n",
       "      <td>1913.0</td>\n",
       "      <td>1.5</td>\n",
       "    </tr>\n",
       "    <tr>\n",
       "      <th>639</th>\n",
       "      <td>535179160</td>\n",
       "      <td>20</td>\n",
       "      <td>80.0000</td>\n",
       "      <td>10400</td>\n",
       "      <td>none</td>\n",
       "      <td>4</td>\n",
       "      <td>4</td>\n",
       "      <td>AllPub</td>\n",
       "      <td>Gtl</td>\n",
       "      <td>4</td>\n",
       "      <td>...</td>\n",
       "      <td>0</td>\n",
       "      <td>0</td>\n",
       "      <td>0</td>\n",
       "      <td>0</td>\n",
       "      <td>0</td>\n",
       "      <td>0</td>\n",
       "      <td>0</td>\n",
       "      <td>1</td>\n",
       "      <td>2105.0</td>\n",
       "      <td>1.0</td>\n",
       "    </tr>\n",
       "    <tr>\n",
       "      <th>10</th>\n",
       "      <td>527162130</td>\n",
       "      <td>60</td>\n",
       "      <td>60.0000</td>\n",
       "      <td>7500</td>\n",
       "      <td>none</td>\n",
       "      <td>4</td>\n",
       "      <td>4</td>\n",
       "      <td>AllPub</td>\n",
       "      <td>Gtl</td>\n",
       "      <td>7</td>\n",
       "      <td>...</td>\n",
       "      <td>0</td>\n",
       "      <td>0</td>\n",
       "      <td>0</td>\n",
       "      <td>0</td>\n",
       "      <td>0</td>\n",
       "      <td>0</td>\n",
       "      <td>0</td>\n",
       "      <td>1</td>\n",
       "      <td>1804.0</td>\n",
       "      <td>2.5</td>\n",
       "    </tr>\n",
       "  </tbody>\n",
       "</table>\n",
       "<p>2051 rows × 206 columns</p>\n",
       "</div>"
      ],
      "text/plain": [
       "            PID  MS SubClass  Lot Frontage  Lot Area Alley  Lot Shape  \\\n",
       "Id                                                                      \n",
       "109   533352170           60       69.0552     13517  none          3   \n",
       "544   531379050           60       43.0000     11492  none          3   \n",
       "153   535304180           20       68.0000      7922  none          4   \n",
       "318   916386060           60       73.0000      9802  none          4   \n",
       "255   906425045           50       82.0000     14235  none          3   \n",
       "...         ...          ...           ...       ...   ...        ...   \n",
       "1587  921126030           20       79.0000     11449  none          3   \n",
       "785   905377130           30       69.0552     12342  none          3   \n",
       "916   909253010           50       57.0000      7558  none          4   \n",
       "639   535179160           20       80.0000     10400  none          4   \n",
       "10    527162130           60       60.0000      7500  none          4   \n",
       "\n",
       "      Land Contour Utilities Land Slope  Overall Qual  ...  Sale Type_CWD  \\\n",
       "Id                                                     ...                  \n",
       "109              4    AllPub        Gtl             6  ...              0   \n",
       "544              4    AllPub        Gtl             7  ...              0   \n",
       "153              4    AllPub        Gtl             5  ...              0   \n",
       "318              4    AllPub        Gtl             5  ...              0   \n",
       "255              4    AllPub        Gtl             6  ...              0   \n",
       "...            ...       ...        ...           ...  ...            ...   \n",
       "1587             3    AllPub        Gtl             8  ...              0   \n",
       "785              4    AllPub        Gtl             4  ...              0   \n",
       "916              2    AllPub        Gtl             6  ...              0   \n",
       "639              4    AllPub        Gtl             4  ...              0   \n",
       "10               4    AllPub        Gtl             7  ...              0   \n",
       "\n",
       "      Sale Type_Con  Sale Type_ConLD  Sale Type_ConLI  Sale Type_ConLw  \\\n",
       "Id                                                                       \n",
       "109               0                0                0                0   \n",
       "544               0                0                0                0   \n",
       "153               0                0                0                0   \n",
       "318               0                0                0                0   \n",
       "255               0                0                0                0   \n",
       "...             ...              ...              ...              ...   \n",
       "1587              0                0                0                0   \n",
       "785               0                0                0                0   \n",
       "916               0                0                0                0   \n",
       "639               0                0                0                0   \n",
       "10                0                0                0                0   \n",
       "\n",
       "      Sale Type_New Sale Type_Oth Sale Type_WD  Total Sq Ft Total Baths  \n",
       "Id                                                                       \n",
       "109               0             0             1      2012.0         2.5  \n",
       "544               0             0             1      2759.0         2.5  \n",
       "153               0             0             1      1788.0         1.0  \n",
       "318               0             0             1      1444.0         2.5  \n",
       "255               0             0             1      1445.0         2.0  \n",
       "...             ...           ...           ...         ...         ...  \n",
       "1587              0             0             1      2739.0         2.0  \n",
       "785               0             0             1      1123.0         1.0  \n",
       "916               0             0             1      1913.0         1.5  \n",
       "639               0             0             1      2105.0         1.0  \n",
       "10                0             0             1      1804.0         2.5  \n",
       "\n",
       "[2051 rows x 206 columns]"
      ]
     },
     "execution_count": 1309,
     "metadata": {},
     "output_type": "execute_result"
    }
   ],
   "source": [
    "#drop columns from df to to remove multi-collinear features\n",
    "df_train.drop(columns, axis = 1)"
   ]
  },
  {
   "cell_type": "code",
   "execution_count": 1310,
   "metadata": {},
   "outputs": [
    {
     "data": {
      "text/html": [
       "<div>\n",
       "<style scoped>\n",
       "    .dataframe tbody tr th:only-of-type {\n",
       "        vertical-align: middle;\n",
       "    }\n",
       "\n",
       "    .dataframe tbody tr th {\n",
       "        vertical-align: top;\n",
       "    }\n",
       "\n",
       "    .dataframe thead th {\n",
       "        text-align: right;\n",
       "    }\n",
       "</style>\n",
       "<table border=\"1\" class=\"dataframe\">\n",
       "  <thead>\n",
       "    <tr style=\"text-align: right;\">\n",
       "      <th></th>\n",
       "      <th>PID</th>\n",
       "      <th>MS SubClass</th>\n",
       "      <th>Lot Frontage</th>\n",
       "      <th>Lot Area</th>\n",
       "      <th>Alley</th>\n",
       "      <th>Lot Shape</th>\n",
       "      <th>Land Contour</th>\n",
       "      <th>Utilities</th>\n",
       "      <th>Land Slope</th>\n",
       "      <th>Overall Qual</th>\n",
       "      <th>...</th>\n",
       "      <th>Sale Type_Con</th>\n",
       "      <th>Sale Type_ConLD</th>\n",
       "      <th>Sale Type_ConLI</th>\n",
       "      <th>Sale Type_ConLw</th>\n",
       "      <th>Sale Type_New</th>\n",
       "      <th>Sale Type_Oth</th>\n",
       "      <th>Sale Type_VWD</th>\n",
       "      <th>Sale Type_WD</th>\n",
       "      <th>Total Sq Ft</th>\n",
       "      <th>Total Baths</th>\n",
       "    </tr>\n",
       "    <tr>\n",
       "      <th>Id</th>\n",
       "      <th></th>\n",
       "      <th></th>\n",
       "      <th></th>\n",
       "      <th></th>\n",
       "      <th></th>\n",
       "      <th></th>\n",
       "      <th></th>\n",
       "      <th></th>\n",
       "      <th></th>\n",
       "      <th></th>\n",
       "      <th></th>\n",
       "      <th></th>\n",
       "      <th></th>\n",
       "      <th></th>\n",
       "      <th></th>\n",
       "      <th></th>\n",
       "      <th></th>\n",
       "      <th></th>\n",
       "      <th></th>\n",
       "      <th></th>\n",
       "      <th></th>\n",
       "    </tr>\n",
       "  </thead>\n",
       "  <tbody>\n",
       "    <tr>\n",
       "      <th>2658</th>\n",
       "      <td>902301120</td>\n",
       "      <td>190</td>\n",
       "      <td>69.0000</td>\n",
       "      <td>9142</td>\n",
       "      <td>Grvl</td>\n",
       "      <td>4</td>\n",
       "      <td>4</td>\n",
       "      <td>AllPub</td>\n",
       "      <td>Gtl</td>\n",
       "      <td>6</td>\n",
       "      <td>...</td>\n",
       "      <td>0</td>\n",
       "      <td>0</td>\n",
       "      <td>0</td>\n",
       "      <td>0</td>\n",
       "      <td>0</td>\n",
       "      <td>0</td>\n",
       "      <td>0</td>\n",
       "      <td>1</td>\n",
       "      <td>1928</td>\n",
       "      <td>2.0</td>\n",
       "    </tr>\n",
       "    <tr>\n",
       "      <th>2718</th>\n",
       "      <td>905108090</td>\n",
       "      <td>90</td>\n",
       "      <td>69.0552</td>\n",
       "      <td>9662</td>\n",
       "      <td>none</td>\n",
       "      <td>3</td>\n",
       "      <td>4</td>\n",
       "      <td>AllPub</td>\n",
       "      <td>Gtl</td>\n",
       "      <td>5</td>\n",
       "      <td>...</td>\n",
       "      <td>0</td>\n",
       "      <td>0</td>\n",
       "      <td>0</td>\n",
       "      <td>0</td>\n",
       "      <td>0</td>\n",
       "      <td>0</td>\n",
       "      <td>0</td>\n",
       "      <td>1</td>\n",
       "      <td>1967</td>\n",
       "      <td>2.0</td>\n",
       "    </tr>\n",
       "    <tr>\n",
       "      <th>2414</th>\n",
       "      <td>528218130</td>\n",
       "      <td>60</td>\n",
       "      <td>58.0000</td>\n",
       "      <td>17104</td>\n",
       "      <td>none</td>\n",
       "      <td>3</td>\n",
       "      <td>4</td>\n",
       "      <td>AllPub</td>\n",
       "      <td>Gtl</td>\n",
       "      <td>7</td>\n",
       "      <td>...</td>\n",
       "      <td>0</td>\n",
       "      <td>0</td>\n",
       "      <td>0</td>\n",
       "      <td>0</td>\n",
       "      <td>1</td>\n",
       "      <td>0</td>\n",
       "      <td>0</td>\n",
       "      <td>0</td>\n",
       "      <td>2050</td>\n",
       "      <td>2.5</td>\n",
       "    </tr>\n",
       "    <tr>\n",
       "      <th>1989</th>\n",
       "      <td>902207150</td>\n",
       "      <td>30</td>\n",
       "      <td>60.0000</td>\n",
       "      <td>8520</td>\n",
       "      <td>none</td>\n",
       "      <td>4</td>\n",
       "      <td>4</td>\n",
       "      <td>AllPub</td>\n",
       "      <td>Gtl</td>\n",
       "      <td>5</td>\n",
       "      <td>...</td>\n",
       "      <td>0</td>\n",
       "      <td>0</td>\n",
       "      <td>0</td>\n",
       "      <td>0</td>\n",
       "      <td>0</td>\n",
       "      <td>0</td>\n",
       "      <td>0</td>\n",
       "      <td>1</td>\n",
       "      <td>968</td>\n",
       "      <td>1.0</td>\n",
       "    </tr>\n",
       "    <tr>\n",
       "      <th>625</th>\n",
       "      <td>535105100</td>\n",
       "      <td>20</td>\n",
       "      <td>69.0552</td>\n",
       "      <td>9500</td>\n",
       "      <td>none</td>\n",
       "      <td>3</td>\n",
       "      <td>4</td>\n",
       "      <td>AllPub</td>\n",
       "      <td>Gtl</td>\n",
       "      <td>6</td>\n",
       "      <td>...</td>\n",
       "      <td>0</td>\n",
       "      <td>0</td>\n",
       "      <td>0</td>\n",
       "      <td>0</td>\n",
       "      <td>0</td>\n",
       "      <td>0</td>\n",
       "      <td>0</td>\n",
       "      <td>1</td>\n",
       "      <td>2003</td>\n",
       "      <td>1.5</td>\n",
       "    </tr>\n",
       "    <tr>\n",
       "      <th>...</th>\n",
       "      <td>...</td>\n",
       "      <td>...</td>\n",
       "      <td>...</td>\n",
       "      <td>...</td>\n",
       "      <td>...</td>\n",
       "      <td>...</td>\n",
       "      <td>...</td>\n",
       "      <td>...</td>\n",
       "      <td>...</td>\n",
       "      <td>...</td>\n",
       "      <td>...</td>\n",
       "      <td>...</td>\n",
       "      <td>...</td>\n",
       "      <td>...</td>\n",
       "      <td>...</td>\n",
       "      <td>...</td>\n",
       "      <td>...</td>\n",
       "      <td>...</td>\n",
       "      <td>...</td>\n",
       "      <td>...</td>\n",
       "      <td>...</td>\n",
       "    </tr>\n",
       "    <tr>\n",
       "      <th>1662</th>\n",
       "      <td>527377110</td>\n",
       "      <td>60</td>\n",
       "      <td>80.0000</td>\n",
       "      <td>8000</td>\n",
       "      <td>none</td>\n",
       "      <td>4</td>\n",
       "      <td>4</td>\n",
       "      <td>AllPub</td>\n",
       "      <td>Gtl</td>\n",
       "      <td>6</td>\n",
       "      <td>...</td>\n",
       "      <td>0</td>\n",
       "      <td>0</td>\n",
       "      <td>0</td>\n",
       "      <td>0</td>\n",
       "      <td>0</td>\n",
       "      <td>0</td>\n",
       "      <td>0</td>\n",
       "      <td>1</td>\n",
       "      <td>2961</td>\n",
       "      <td>2.5</td>\n",
       "    </tr>\n",
       "    <tr>\n",
       "      <th>1234</th>\n",
       "      <td>535126140</td>\n",
       "      <td>60</td>\n",
       "      <td>90.0000</td>\n",
       "      <td>14670</td>\n",
       "      <td>none</td>\n",
       "      <td>4</td>\n",
       "      <td>4</td>\n",
       "      <td>AllPub</td>\n",
       "      <td>Gtl</td>\n",
       "      <td>6</td>\n",
       "      <td>...</td>\n",
       "      <td>0</td>\n",
       "      <td>0</td>\n",
       "      <td>0</td>\n",
       "      <td>0</td>\n",
       "      <td>0</td>\n",
       "      <td>0</td>\n",
       "      <td>0</td>\n",
       "      <td>1</td>\n",
       "      <td>2563</td>\n",
       "      <td>2.5</td>\n",
       "    </tr>\n",
       "    <tr>\n",
       "      <th>1373</th>\n",
       "      <td>904100040</td>\n",
       "      <td>20</td>\n",
       "      <td>55.0000</td>\n",
       "      <td>8250</td>\n",
       "      <td>none</td>\n",
       "      <td>4</td>\n",
       "      <td>4</td>\n",
       "      <td>AllPub</td>\n",
       "      <td>Gtl</td>\n",
       "      <td>5</td>\n",
       "      <td>...</td>\n",
       "      <td>0</td>\n",
       "      <td>0</td>\n",
       "      <td>0</td>\n",
       "      <td>0</td>\n",
       "      <td>0</td>\n",
       "      <td>0</td>\n",
       "      <td>0</td>\n",
       "      <td>1</td>\n",
       "      <td>1953</td>\n",
       "      <td>1.0</td>\n",
       "    </tr>\n",
       "    <tr>\n",
       "      <th>1672</th>\n",
       "      <td>527425140</td>\n",
       "      <td>20</td>\n",
       "      <td>60.0000</td>\n",
       "      <td>9000</td>\n",
       "      <td>none</td>\n",
       "      <td>4</td>\n",
       "      <td>4</td>\n",
       "      <td>AllPub</td>\n",
       "      <td>Gtl</td>\n",
       "      <td>4</td>\n",
       "      <td>...</td>\n",
       "      <td>0</td>\n",
       "      <td>0</td>\n",
       "      <td>0</td>\n",
       "      <td>0</td>\n",
       "      <td>0</td>\n",
       "      <td>0</td>\n",
       "      <td>0</td>\n",
       "      <td>1</td>\n",
       "      <td>1480</td>\n",
       "      <td>1.0</td>\n",
       "    </tr>\n",
       "    <tr>\n",
       "      <th>1939</th>\n",
       "      <td>535327160</td>\n",
       "      <td>20</td>\n",
       "      <td>70.0000</td>\n",
       "      <td>8400</td>\n",
       "      <td>none</td>\n",
       "      <td>4</td>\n",
       "      <td>4</td>\n",
       "      <td>AllPub</td>\n",
       "      <td>Gtl</td>\n",
       "      <td>5</td>\n",
       "      <td>...</td>\n",
       "      <td>0</td>\n",
       "      <td>0</td>\n",
       "      <td>0</td>\n",
       "      <td>0</td>\n",
       "      <td>0</td>\n",
       "      <td>0</td>\n",
       "      <td>0</td>\n",
       "      <td>1</td>\n",
       "      <td>1718</td>\n",
       "      <td>1.0</td>\n",
       "    </tr>\n",
       "  </tbody>\n",
       "</table>\n",
       "<p>878 rows × 191 columns</p>\n",
       "</div>"
      ],
      "text/plain": [
       "            PID  MS SubClass  Lot Frontage  Lot Area Alley  Lot Shape  \\\n",
       "Id                                                                      \n",
       "2658  902301120          190       69.0000      9142  Grvl          4   \n",
       "2718  905108090           90       69.0552      9662  none          3   \n",
       "2414  528218130           60       58.0000     17104  none          3   \n",
       "1989  902207150           30       60.0000      8520  none          4   \n",
       "625   535105100           20       69.0552      9500  none          3   \n",
       "...         ...          ...           ...       ...   ...        ...   \n",
       "1662  527377110           60       80.0000      8000  none          4   \n",
       "1234  535126140           60       90.0000     14670  none          4   \n",
       "1373  904100040           20       55.0000      8250  none          4   \n",
       "1672  527425140           20       60.0000      9000  none          4   \n",
       "1939  535327160           20       70.0000      8400  none          4   \n",
       "\n",
       "      Land Contour Utilities Land Slope  Overall Qual  ...  Sale Type_Con  \\\n",
       "Id                                                     ...                  \n",
       "2658             4    AllPub        Gtl             6  ...              0   \n",
       "2718             4    AllPub        Gtl             5  ...              0   \n",
       "2414             4    AllPub        Gtl             7  ...              0   \n",
       "1989             4    AllPub        Gtl             5  ...              0   \n",
       "625              4    AllPub        Gtl             6  ...              0   \n",
       "...            ...       ...        ...           ...  ...            ...   \n",
       "1662             4    AllPub        Gtl             6  ...              0   \n",
       "1234             4    AllPub        Gtl             6  ...              0   \n",
       "1373             4    AllPub        Gtl             5  ...              0   \n",
       "1672             4    AllPub        Gtl             4  ...              0   \n",
       "1939             4    AllPub        Gtl             5  ...              0   \n",
       "\n",
       "      Sale Type_ConLD  Sale Type_ConLI  Sale Type_ConLw  Sale Type_New  \\\n",
       "Id                                                                       \n",
       "2658                0                0                0              0   \n",
       "2718                0                0                0              0   \n",
       "2414                0                0                0              1   \n",
       "1989                0                0                0              0   \n",
       "625                 0                0                0              0   \n",
       "...               ...              ...              ...            ...   \n",
       "1662                0                0                0              0   \n",
       "1234                0                0                0              0   \n",
       "1373                0                0                0              0   \n",
       "1672                0                0                0              0   \n",
       "1939                0                0                0              0   \n",
       "\n",
       "      Sale Type_Oth Sale Type_VWD Sale Type_WD  Total Sq Ft Total Baths  \n",
       "Id                                                                       \n",
       "2658              0             0             1        1928         2.0  \n",
       "2718              0             0             1        1967         2.0  \n",
       "2414              0             0             0        2050         2.5  \n",
       "1989              0             0             1         968         1.0  \n",
       "625               0             0             1        2003         1.5  \n",
       "...             ...           ...           ...         ...         ...  \n",
       "1662              0             0             1        2961         2.5  \n",
       "1234              0             0             1        2563         2.5  \n",
       "1373              0             0             1        1953         1.0  \n",
       "1672              0             0             1        1480         1.0  \n",
       "1939              0             0             1        1718         1.0  \n",
       "\n",
       "[878 rows x 191 columns]"
      ]
     },
     "execution_count": 1310,
     "metadata": {},
     "output_type": "execute_result"
    }
   ],
   "source": [
    "#drop columns from df to to remove multi-collinear features\n",
    "df_test.drop(columns, axis = 1)"
   ]
  },
  {
   "cell_type": "code",
   "execution_count": 1311,
   "metadata": {},
   "outputs": [
    {
     "data": {
      "text/plain": [
       "(878, 200)"
      ]
     },
     "execution_count": 1311,
     "metadata": {},
     "output_type": "execute_result"
    }
   ],
   "source": [
    "df_test.shape"
   ]
  },
  {
   "cell_type": "code",
   "execution_count": 1312,
   "metadata": {},
   "outputs": [
    {
     "data": {
      "text/plain": [
       "<bound method Index.unique of Index(['PID', 'MS SubClass', 'Lot Frontage', 'Lot Area', 'Alley', 'Lot Shape',\n",
       "       'Land Contour', 'Utilities', 'Land Slope', 'Overall Qual',\n",
       "       ...\n",
       "       'Sale Type_ConLD', 'Sale Type_ConLI', 'Sale Type_ConLw',\n",
       "       'Sale Type_New', 'Sale Type_Oth', 'Sale Type_VWD', 'Sale Type_WD ',\n",
       "       'Total Sq Ft', 'Total Baths', 'Bsmt Total Area'],\n",
       "      dtype='object', length=200)>"
      ]
     },
     "execution_count": 1312,
     "metadata": {},
     "output_type": "execute_result"
    }
   ],
   "source": [
    "df_test.columns.unique"
   ]
  },
  {
   "cell_type": "code",
   "execution_count": 1313,
   "metadata": {},
   "outputs": [
    {
     "data": {
      "text/plain": [
       "(2051, 215)"
      ]
     },
     "execution_count": 1313,
     "metadata": {},
     "output_type": "execute_result"
    }
   ],
   "source": [
    "df_train.shape"
   ]
  },
  {
   "cell_type": "code",
   "execution_count": 1259,
   "metadata": {},
   "outputs": [
    {
     "data": {
      "text/plain": [
       "False"
      ]
     },
     "execution_count": 1259,
     "metadata": {},
     "output_type": "execute_result"
    }
   ],
   "source": [
    "list(df_train.columns) == list(df_test.columns)"
   ]
  },
  {
   "cell_type": "markdown",
   "metadata": {},
   "source": [
    "### Model Preparation"
   ]
  },
  {
   "cell_type": "code",
   "execution_count": 980,
   "metadata": {},
   "outputs": [],
   "source": [
    "from sklearn import metrics\n",
    "from sklearn.metrics import mean_squared_error"
   ]
  },
  {
   "cell_type": "markdown",
   "metadata": {},
   "source": [
    "## Modeling"
   ]
  },
  {
   "cell_type": "code",
   "execution_count": 1375,
   "metadata": {},
   "outputs": [],
   "source": [
    "#Create list of features that will be used in our models\n",
    "features = ['Overall Qual', 'Gr Liv Area', 'Garage Area', 'Garage Cars', 'Year Remod/Add', 'Total Sq Ft', \n",
    "           'Total Baths']\n",
    "X = df_train[features]\n",
    "y = df_train['SalePrice']"
   ]
  },
  {
   "cell_type": "code",
   "execution_count": null,
   "metadata": {},
   "outputs": [],
   "source": []
  },
  {
   "cell_type": "code",
   "execution_count": 1376,
   "metadata": {},
   "outputs": [],
   "source": [
    "#Train Test Split on our data \n",
    "X_train, X_test,y_train, y_test = train_test_split(X, y,\n",
    "                                                  random_state = 42)"
   ]
  },
  {
   "cell_type": "markdown",
   "metadata": {},
   "source": [
    "We split our data like this because testing data can represent \"future\" data for prediction-oriented models. It's critical to ensure that a model that is performing well on current data will likely perform well on future data. It also can help diagnose and avoid overfitting via model tuning. We do this in hopes to improve the quality of our predictions."
   ]
  },
  {
   "cell_type": "markdown",
   "metadata": {},
   "source": [
    "### Baseline Model"
   ]
  },
  {
   "cell_type": "markdown",
   "metadata": {},
   "source": [
    "A baseline model has been created using the mean sale prices of our target variable Sale Price. This model provides a useful point of comparison for all future models used. Once we start getting results from other models our baseline can tell us if a change is adding value or if we need to include different features. It is a critical component of our modeling process. "
   ]
  },
  {
   "cell_type": "code",
   "execution_count": 1363,
   "metadata": {},
   "outputs": [],
   "source": [
    "#Instantiate baseline model for train and test data using for loop\n",
    "y_train_baseline = [y_train.mean() for i in y_train]\n",
    "y_test_baseline = [y_train.mean() for i in y_test]"
   ]
  },
  {
   "cell_type": "code",
   "execution_count": 1364,
   "metadata": {},
   "outputs": [
    {
     "data": {
      "text/plain": [
       "181469.70160897123"
      ]
     },
     "execution_count": 1364,
     "metadata": {},
     "output_type": "execute_result"
    }
   ],
   "source": [
    "#Identify mean price of target variable Sale Price\n",
    "Sale_Price_Avg = df_train['SalePrice'].mean()\n",
    "Sale_Price_Avg"
   ]
  },
  {
   "cell_type": "code",
   "execution_count": 1365,
   "metadata": {},
   "outputs": [
    {
     "name": "stdout",
     "output_type": "stream",
     "text": [
      "79526.85223710592\n",
      "78375.26238032707\n"
     ]
    }
   ],
   "source": [
    "#Using RMSE identify our results for baseline model \n",
    "print(mean_squared_error(y_train, y_train_baseline)**0.5)\n",
    "print(mean_squared_error(y_test, y_test_baseline)**0.5)"
   ]
  },
  {
   "cell_type": "markdown",
   "metadata": {},
   "source": [
    "## Linear Regression"
   ]
  },
  {
   "cell_type": "code",
   "execution_count": 1339,
   "metadata": {},
   "outputs": [],
   "source": [
    "from sklearn.linear_model import LinearRegression\n"
   ]
  },
  {
   "cell_type": "code",
   "execution_count": 1377,
   "metadata": {},
   "outputs": [],
   "source": [
    "model = LinearRegression()"
   ]
  },
  {
   "cell_type": "code",
   "execution_count": 1378,
   "metadata": {},
   "outputs": [
    {
     "data": {
      "text/plain": [
       "LinearRegression(copy_X=True, fit_intercept=True, n_jobs=None, normalize=False)"
      ]
     },
     "execution_count": 1378,
     "metadata": {},
     "output_type": "execute_result"
    }
   ],
   "source": [
    "model.fit(X_train, y_train)"
   ]
  },
  {
   "cell_type": "code",
   "execution_count": 1379,
   "metadata": {},
   "outputs": [],
   "source": [
    "y_train_preds = model.predict(X_train)\n",
    "y_test_preds = model.predict(X_test)"
   ]
  },
  {
   "cell_type": "code",
   "execution_count": 1380,
   "metadata": {},
   "outputs": [
    {
     "name": "stdout",
     "output_type": "stream",
     "text": [
      "37495.25939106669\n",
      "31770.481333765765\n"
     ]
    }
   ],
   "source": [
    "#RMSE Metric used to evaluate performance of model \n",
    "print(mean_squared_error(y_train, y_train_preds)**0.5)\n",
    "print(mean_squared_error(y_test, y_test_preds)**0.5)"
   ]
  },
  {
   "cell_type": "markdown",
   "metadata": {},
   "source": [
    "Linear Regression Results-The above score is much better than the score of our baseline model. We are heading in the right direction and we know this because we can reference our baseline score. However, we are still a ways off from a target score of $25,000. Testing score is better than the training score. We have quite a ways to go to. We anticipate the two next models will perform better than Linear Regression. "
   ]
  },
  {
   "cell_type": "code",
   "execution_count": null,
   "metadata": {},
   "outputs": [],
   "source": [
    "plt.figure(figsize = (8,8))\n",
    "plt.scatter()"
   ]
  },
  {
   "cell_type": "code",
   "execution_count": 1381,
   "metadata": {},
   "outputs": [
    {
     "data": {
      "text/html": [
       "<div>\n",
       "<style scoped>\n",
       "    .dataframe tbody tr th:only-of-type {\n",
       "        vertical-align: middle;\n",
       "    }\n",
       "\n",
       "    .dataframe tbody tr th {\n",
       "        vertical-align: top;\n",
       "    }\n",
       "\n",
       "    .dataframe thead th {\n",
       "        text-align: right;\n",
       "    }\n",
       "</style>\n",
       "<table border=\"1\" class=\"dataframe\">\n",
       "  <thead>\n",
       "    <tr style=\"text-align: right;\">\n",
       "      <th></th>\n",
       "      <th>name</th>\n",
       "      <th>coeff</th>\n",
       "    </tr>\n",
       "  </thead>\n",
       "  <tbody>\n",
       "    <tr>\n",
       "      <th>0</th>\n",
       "      <td>Overall Qual</td>\n",
       "      <td>23301.169713</td>\n",
       "    </tr>\n",
       "    <tr>\n",
       "      <th>3</th>\n",
       "      <td>Garage Cars</td>\n",
       "      <td>9345.653756</td>\n",
       "    </tr>\n",
       "    <tr>\n",
       "      <th>4</th>\n",
       "      <td>Year Remod/Add</td>\n",
       "      <td>430.492225</td>\n",
       "    </tr>\n",
       "    <tr>\n",
       "      <th>2</th>\n",
       "      <td>Garage Area</td>\n",
       "      <td>27.884185</td>\n",
       "    </tr>\n",
       "    <tr>\n",
       "      <th>5</th>\n",
       "      <td>Total Sq Ft</td>\n",
       "      <td>26.433439</td>\n",
       "    </tr>\n",
       "    <tr>\n",
       "      <th>1</th>\n",
       "      <td>Gr Liv Area</td>\n",
       "      <td>21.555210</td>\n",
       "    </tr>\n",
       "    <tr>\n",
       "      <th>6</th>\n",
       "      <td>Total Baths</td>\n",
       "      <td>-990.919608</td>\n",
       "    </tr>\n",
       "  </tbody>\n",
       "</table>\n",
       "</div>"
      ],
      "text/plain": [
       "             name         coeff\n",
       "0    Overall Qual  23301.169713\n",
       "3     Garage Cars   9345.653756\n",
       "4  Year Remod/Add    430.492225\n",
       "2     Garage Area     27.884185\n",
       "5     Total Sq Ft     26.433439\n",
       "1     Gr Liv Area     21.555210\n",
       "6     Total Baths   -990.919608"
      ]
     },
     "execution_count": 1381,
     "metadata": {},
     "output_type": "execute_result"
    }
   ],
   "source": [
    "#Identify coefficients that have the greatest effect on our target variable\n",
    "coef_df = pd.DataFrame({'name':X.columns, 'coeff':model.coef_})\n",
    "coef_df.sort_values(by='coeff', ascending = False)\n"
   ]
  },
  {
   "cell_type": "code",
   "execution_count": 1392,
   "metadata": {},
   "outputs": [
    {
     "data": {
      "text/plain": [
       "array([0.82054795, 0.80615101, 0.81308609, 0.76325609, 0.56550343])"
      ]
     },
     "execution_count": 1392,
     "metadata": {},
     "output_type": "execute_result"
    }
   ],
   "source": [
    "#Cross validation score used to assess performance of model\n",
    "cross_val_score(model, X_train, y_train, cv=5)"
   ]
  },
  {
   "cell_type": "code",
   "execution_count": 1420,
   "metadata": {},
   "outputs": [],
   "source": [
    "predictions = model.predict(X)"
   ]
  },
  {
   "cell_type": "code",
   "execution_count": 1421,
   "metadata": {},
   "outputs": [],
   "source": [
    "residuals = y - predictions"
   ]
  },
  {
   "cell_type": "code",
   "execution_count": 1423,
   "metadata": {},
   "outputs": [
    {
     "data": {
      "image/png": "[encoded data removed]",
      "text/plain": [
       "<Figure size 432x288 with 1 Axes>"
      ]
     },
     "metadata": {
      "needs_background": "light"
     },
     "output_type": "display_data"
    }
   ],
   "source": [
    "# The y axis will be the residuals, and the x axis will be original predictions. Residuals plot shows that \n",
    "# some outliers were not handled correctly. These results is not exactly what we would like to see in a residual \n",
    "#plot. Also, scaling our data could have helped get better results in our residaul plot. \n",
    "plt.scatter(predictions, residuals)\n",
    "plt.axhline(0, color='r');"
   ]
  },
  {
   "cell_type": "code",
   "execution_count": 1429,
   "metadata": {},
   "outputs": [
    {
     "data": {
      "image/png": "[encoded data removed]",
      "text/plain": [
       "<Figure size 720x720 with 1 Axes>"
      ]
     },
     "metadata": {
      "needs_background": "light"
     },
     "output_type": "display_data"
    }
   ],
   "source": [
    "#Scatterplot of predicted vs actual values \n",
    "plt.figure(figsize=(10,10))\n",
    "plt.ylabel('Actual Values')\n",
    "plt.xlabel('Predicted Values')\n",
    "plt.scatter(y, predictions, c='k');\n",
    "\n",
    "plt.plot(predictions, predictions, color='b');"
   ]
  },
  {
   "cell_type": "markdown",
   "metadata": {},
   "source": [
    "We observe homoscedasticity up unti a certain point and then we observe our predicted values being further away from actural values as sale prices increase. This could be related to the outliers they were not addressed during EDA "
   ]
  },
  {
   "cell_type": "markdown",
   "metadata": {},
   "source": [
    "## Ridge"
   ]
  },
  {
   "cell_type": "markdown",
   "metadata": {},
   "source": [
    "Ridge model shrinks our regression coefficients clsoer to zero to make our model simpler. We are accepting more bias in exchange for a decrease in variance. "
   ]
  },
  {
   "cell_type": "code",
   "execution_count": 1353,
   "metadata": {},
   "outputs": [],
   "source": [
    "#create variable for Sklearn StandardScaler to be used in Ridge and Lasso Models \n",
    "ss = StandardScaler()\n",
    "#Fit Model \n",
    "ss.fit(X_train)\n",
    "X_train_sc = ss.transform(X_train)\n",
    "\n",
    "X_test_sc = ss.transform(X_test)"
   ]
  },
  {
   "cell_type": "code",
   "execution_count": 1354,
   "metadata": {},
   "outputs": [],
   "source": [
    "ridge = RidgeCV(alphas = np.logspace(-6, 6, 10)) \n",
    "ridge.fit(X_train_sc, y_train)\n",
    "train_pred = ridge.predict(X_train_sc)\n",
    "test_pred = ridge.predict(X_test_sc)\n"
   ]
  },
  {
   "cell_type": "code",
   "execution_count": 1355,
   "metadata": {},
   "outputs": [
    {
     "name": "stdout",
     "output_type": "stream",
     "text": [
      "37574.40523994083\n",
      "32101.05028842727\n"
     ]
    }
   ],
   "source": [
    "#Root Mean Squared Error used to evaluate the performance of our model\n",
    "print(mean_squared_error(y_train, train_pred)**0.5)\n",
    "print(mean_squared_error(y_test, test_pred)**0.5)"
   ]
  },
  {
   "cell_type": "markdown",
   "metadata": {},
   "source": [
    "Ridge model does not perform better than Linear Regression model. We observe similar results, as once again the testing score is better than the training score. We can infer from these results that our model is most likely under fit. Our model falls short of capturing the complexity of the \"true model\" of the data."
   ]
  },
  {
   "cell_type": "code",
   "execution_count": 1356,
   "metadata": {},
   "outputs": [
    {
     "data": {
      "text/html": [
       "<div>\n",
       "<style scoped>\n",
       "    .dataframe tbody tr th:only-of-type {\n",
       "        vertical-align: middle;\n",
       "    }\n",
       "\n",
       "    .dataframe tbody tr th {\n",
       "        vertical-align: top;\n",
       "    }\n",
       "\n",
       "    .dataframe thead th {\n",
       "        text-align: right;\n",
       "    }\n",
       "</style>\n",
       "<table border=\"1\" class=\"dataframe\">\n",
       "  <thead>\n",
       "    <tr style=\"text-align: right;\">\n",
       "      <th></th>\n",
       "      <th>name</th>\n",
       "      <th>coeff</th>\n",
       "    </tr>\n",
       "  </thead>\n",
       "  <tbody>\n",
       "    <tr>\n",
       "      <th>0</th>\n",
       "      <td>Overall Qual</td>\n",
       "      <td>30248.903047</td>\n",
       "    </tr>\n",
       "    <tr>\n",
       "      <th>5</th>\n",
       "      <td>Total Sq Ft</td>\n",
       "      <td>19382.044001</td>\n",
       "    </tr>\n",
       "    <tr>\n",
       "      <th>1</th>\n",
       "      <td>Gr Liv Area</td>\n",
       "      <td>11790.500602</td>\n",
       "    </tr>\n",
       "    <tr>\n",
       "      <th>4</th>\n",
       "      <td>Year Remod/Add</td>\n",
       "      <td>9501.938811</td>\n",
       "    </tr>\n",
       "    <tr>\n",
       "      <th>3</th>\n",
       "      <td>Garage Cars</td>\n",
       "      <td>7353.876318</td>\n",
       "    </tr>\n",
       "    <tr>\n",
       "      <th>2</th>\n",
       "      <td>Garage Area</td>\n",
       "      <td>7029.139146</td>\n",
       "    </tr>\n",
       "  </tbody>\n",
       "</table>\n",
       "</div>"
      ],
      "text/plain": [
       "             name         coeff\n",
       "0    Overall Qual  30248.903047\n",
       "5     Total Sq Ft  19382.044001\n",
       "1     Gr Liv Area  11790.500602\n",
       "4  Year Remod/Add   9501.938811\n",
       "3     Garage Cars   7353.876318\n",
       "2     Garage Area   7029.139146"
      ]
     },
     "execution_count": 1356,
     "metadata": {},
     "output_type": "execute_result"
    }
   ],
   "source": [
    "#Identify coefficients. Below values show that a one unit increase in these features leads to biggest expected\n",
    "#increase in sale price (while all else is held constant).\n",
    "coef_df = pd.DataFrame({'name':X.columns, 'coeff':ridge.coef_})\n",
    "coef_df.sort_values(by='coeff', ascending = False)"
   ]
  },
  {
   "cell_type": "code",
   "execution_count": 1357,
   "metadata": {},
   "outputs": [
    {
     "data": {
      "text/plain": [
       "100.0"
      ]
     },
     "execution_count": 1357,
     "metadata": {},
     "output_type": "execute_result"
    }
   ],
   "source": [
    "#Identifying our alpha that was generated when we ran our ridge model above. \n",
    "ridge.alpha_"
   ]
  },
  {
   "cell_type": "code",
   "execution_count": 1358,
   "metadata": {},
   "outputs": [],
   "source": [
    "#Attempting to reproduce results based off the alpha generated by np.logspace\n",
    "ridge = Ridge(alpha = 100) \n",
    "ridge.fit(X_train_sc, y_train)\n",
    "train_pred = ridge.predict(X_train_sc)\n",
    "test_pred = ridge.predict(X_test_sc)"
   ]
  },
  {
   "cell_type": "code",
   "execution_count": 1359,
   "metadata": {},
   "outputs": [
    {
     "name": "stdout",
     "output_type": "stream",
     "text": [
      "37574.40523994049\n",
      "32101.050288425628\n"
     ]
    }
   ],
   "source": [
    "#RMSE results are the same as above. Testing our alpha here. \n",
    "print(mean_squared_error(y_train, train_pred)**0.5)\n",
    "print(mean_squared_error(y_test, test_pred)**0.5)"
   ]
  },
  {
   "cell_type": "markdown",
   "metadata": {},
   "source": [
    "## Lasso"
   ]
  },
  {
   "cell_type": "code",
   "execution_count": 1410,
   "metadata": {},
   "outputs": [],
   "source": [
    "#Instantiate model\n",
    "lasso = LassoCV(alphas = np.logspace(-6, 6, 10)) \n",
    "#Fit Model\n",
    "lasso.fit(X_train_sc, y_train)\n",
    "train_pred = lasso.predict(X_train_sc)\n",
    "test_pred = lasso.predict(X_test_sc)"
   ]
  },
  {
   "cell_type": "code",
   "execution_count": 1411,
   "metadata": {},
   "outputs": [
    {
     "name": "stdout",
     "output_type": "stream",
     "text": [
      "37603.15292813838\n",
      "32291.834943626753\n"
     ]
    }
   ],
   "source": [
    "#Root Mean Squared Error used to evaluate the performance of our model\n",
    "print(mean_squared_error(y_train, train_pred)**0.5)\n",
    "print(mean_squared_error(y_test, test_pred)**0.5)"
   ]
  },
  {
   "cell_type": "code",
   "execution_count": 1407,
   "metadata": {},
   "outputs": [
    {
     "name": "stdout",
     "output_type": "stream",
     "text": [
      "0.7758650393211011\n",
      "0.8354899414822097\n"
     ]
    }
   ],
   "source": [
    "# Evaluate model using R2.\n",
    "print(lasso_model.score(X_train, y_train))\n",
    "print(lasso_model.score(X_test, y_test))"
   ]
  },
  {
   "cell_type": "markdown",
   "metadata": {},
   "source": [
    "R^2- coefficient of determination. We want tot get as closed to one as possible. What are above score tells us is for a R^2 value of .83 (testing data) is that 83% of the variability in y is explained by the X-variables in our model. "
   ]
  },
  {
   "cell_type": "code",
   "execution_count": 1408,
   "metadata": {},
   "outputs": [
    {
     "data": {
      "text/plain": [
       "array([0.7617557 , 0.71924079, 0.74488202, 0.68345226, 0.43938891])"
      ]
     },
     "execution_count": 1408,
     "metadata": {},
     "output_type": "execute_result"
    }
   ],
   "source": [
    "#Cross validation score used to assess performance of model\n",
    "cross_val_score(lasso, X_train, y_train, cv =5 )"
   ]
  },
  {
   "cell_type": "markdown",
   "metadata": {},
   "source": [
    "## Model Selection\n"
   ]
  },
  {
   "cell_type": "markdown",
   "metadata": {},
   "source": [
    "Linear Regression Model gave us the best score for this data set based off of the metric R2 and RMSE. I Expected Linear Regresssion to perform the worst but it narrowly beat out Ridge & Lasso. This is the defacto choice there really is no best option and all of the models underperformed. "
   ]
  },
  {
   "cell_type": "markdown",
   "metadata": {},
   "source": [
    "## Model Evaluation"
   ]
  },
  {
   "cell_type": "markdown",
   "metadata": {},
   "source": [
    "The Metric used to evaluate our modesl was root mean squared error (RMSE). This is the same metric we will be \n",
    "evaluated on when submitting our data to Kaggle. RMSE represents (approximately) average distance from the predicted value. It is heavily affected by outliers and we did observed this in our model results. "
   ]
  },
  {
   "cell_type": "markdown",
   "metadata": {},
   "source": [
    "The models were limited in their performance because of the number of features they included. The model was underfit and as result perfomed poorly. Our model fell short of capturing the complexity of the \"true model\" of the data. This was consistent across the Linear Regression, Ridge, and Lasso Models. Due to additional constraints we weren't able to get a model to run properly with all of the features initially created. If this had been done correctly better target scores would most likely been achieved. The metrics used to evaluate all three models were fairly close to one another. Lasso and Ridge would most likely outperformed the Linear Regression model but were limited due to the number of features. Our goal was focused on prediction not inference and we failed to accomplish that as our predictions were off a considerable amount from our target. "
   ]
  },
  {
   "cell_type": "markdown",
   "metadata": {},
   "source": [
    "## Conclusion"
   ]
  },
  {
   "cell_type": "markdown",
   "metadata": {},
   "source": [
    "The target score the Investment Committee set for Willow Real Estate was not achieved. The Investment committee has decided to stop any addtional funding until it can produce better models that are closer to the target score (RMSE) of $25,000. Due to the fact that the models used lacked complexity and had so few features directly contributed to their poor performance. This stems from upstream issues related to EDA that limited what features could be used in the model. Only the features that were determined to be the highest correlated to sale price were used in the models. However, these features only provided limited information. There was much more out there and combining multiple variables through feature engineering could have been a powerful tool that helped us acheive better predictive scores. "
   ]
  },
  {
   "cell_type": "markdown",
   "metadata": {},
   "source": [
    "## Recommendations"
   ]
  },
  {
   "cell_type": "markdown",
   "metadata": {},
   "source": [
    "Additonal investigation and manufacturing of features with linear relationships to the target will help increase model performance. Too few features were created through feature engineering. A deeper dive is required in EDA to identify trends and relationships. The data needs to be scaled appropriately, this was overlooked at times but is important to do. Inclued more features overall, use the \"kitchen sink\" approach, as we can always reduce the features to fine tune the models. The data was robust and a lot of it was not taken into consideration when addressing our problem statement. Take more time to formulate a plan and construct a framework to build off of and can be fine tuned. "
   ]
  },
  {
   "cell_type": "markdown",
   "metadata": {},
   "source": [
    "## References\n",
    "https://www.washingtonpost.com/realestate/which-firm-has-more-accurate-online-estimates-for-homes-zillow-or-redfin/2019/02/19/7a1f6436-346b-11e9-a400-e481bf264fdc_story.html"
   ]
  },
  {
   "cell_type": "markdown",
   "metadata": {},
   "source": [
    "# Kaggle Submission\n",
    "Whatever you did to the first dataset, you MUST do to the validation/hold-out set"
   ]
  },
  {
   "cell_type": "markdown",
   "metadata": {},
   "source": [
    "Data Set Submitted to Kaggle on 4/10/20"
   ]
  },
  {
   "cell_type": "markdown",
   "metadata": {},
   "source": [
    "Validation data has been altered to reflect first dataset in cells 1295 & 1300"
   ]
  },
  {
   "cell_type": "code",
   "execution_count": 1415,
   "metadata": {},
   "outputs": [],
   "source": [
    "#write to csv saved to output folder \n",
    "output.to_csv('./output/df_test.csv', index = False)"
   ]
  },
  {
   "cell_type": "code",
   "execution_count": 1416,
   "metadata": {},
   "outputs": [],
   "source": [
    "#write to csv saved to output folder \n",
    "output.to_csv('./output/df_train.csv', index = False)"
   ]
  }
 ],
 "metadata": {
  "kernelspec": {
   "display_name": "Python 3",
   "language": "python",
   "name": "python3"
  },
  "language_info": {
   "codemirror_mode": {
    "name": "ipython",
    "version": 3
   },
   "file_extension": ".py",
   "mimetype": "text/x-python",
   "name": "python",
   "nbconvert_exporter": "python",
   "pygments_lexer": "ipython3",
   "version": "3.7.4"
  }
 },
 "nbformat": 4,
 "nbformat_minor": 2
}
